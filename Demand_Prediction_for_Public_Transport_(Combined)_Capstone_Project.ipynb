{
  "nbformat": 4,
  "nbformat_minor": 0,
  "metadata": {
    "kernelspec": {
      "display_name": "Python 3",
      "language": "python",
      "name": "python3"
    },
    "language_info": {
      "codemirror_mode": {
        "name": "ipython",
        "version": 3
      },
      "file_extension": ".py",
      "mimetype": "text/x-python",
      "name": "python",
      "nbconvert_exporter": "python",
      "pygments_lexer": "ipython3",
      "version": "3.6.6"
    },
    "colab": {
      "name": "Demand Prediction for Public Transport (Combined) - Capstone Project.ipynb",
      "provenance": [],
      "collapsed_sections": [],
      "include_colab_link": true
    }
  },
  "cells": [
    {
      "cell_type": "markdown",
      "metadata": {
        "id": "view-in-github",
        "colab_type": "text"
      },
      "source": [
        "<a href=\"https://colab.research.google.com/github/spandit98/Transport_Demand_Prediction/blob/main/Demand_Prediction_for_Public_Transport_(Combined)_Capstone_Project.ipynb\" target=\"_parent\"><img src=\"https://colab.research.google.com/assets/colab-badge.svg\" alt=\"Open In Colab\"/></a>"
      ]
    },
    {
      "cell_type": "markdown",
      "metadata": {
        "id": "tOGC-qoyhJeX"
      },
      "source": [
        "# <b><u> Project Title : Traffic Jam: Predicting People's Movement into Nairobi </u></b>"
      ]
    },
    {
      "cell_type": "markdown",
      "metadata": {
        "id": "Y06xIdG26kRF"
      },
      "source": [
        "## <b> Problem Description </b>\n",
        "\n",
        "### This challenge asks you to build a model that predicts the number of seats that Mobiticket can expect to sell for each ride, i.e. for a specific route on a specific date and time. There are 14 routes in this dataset. All of the routes end in Nairobi and originate in towns to the North-West of Nairobi towards Lake Victoria.\n",
        "\n",
        "\n",
        "### The towns from which these routes originate are:\n",
        "\n",
        "* Awendo\n",
        "* Homa Bay\n",
        "* Kehancha\n",
        "* Kendu Bay\n",
        "* Keroka\n",
        "* Keumbu\n",
        "* Kijauri\n",
        "* Kisii\n",
        "* Mbita\n",
        "* Migori\n",
        "* Ndhiwa\n",
        "* Nyachenge\n",
        "* Oyugis\n",
        "* Rodi\n",
        "* Rongo\n",
        "* Sirare\n",
        "* Sori\n",
        "\n",
        "### The routes from these 14 origins to the first stop in the outskirts of Nairobi takes approximately 8 to 9 hours from time of departure. From the first stop in the outskirts of Nairobi into the main bus terminal, where most passengers get off, in Central Business District, takes another 2 to 3 hours depending on traffic.\n",
        "\n",
        "### The three stops that all these routes make in Nairobi (in order) are:\n",
        "\n",
        "1. Kawangware: the first stop in the outskirts of Nairobi\n",
        "2. Westlands\n",
        "3. Afya Centre: the main bus terminal where most passengers disembark\n",
        "\n",
        "### All of these points are mapped [here](https://www.google.com/maps/d/viewer?mid=1Ef2pFdP8keVHHid8bwju2raoRvjOGagN&ll=-0.8281897101491997%2C35.51706279999996&z=8).\n",
        "\n",
        "### Passengers of these bus (or shuttle) rides are affected by Nairobi traffic not only during their ride into the city, but from there they must continue their journey to their final destination in Nairobi wherever that may be. Traffic can act as a deterrent for those who have the option to avoid buses that arrive in Nairobi during peak traffic hours. On the other hand, traffic may be an indication for people’s movement patterns, reflecting business hours, cultural events, political events, and holidays."
      ]
    },
    {
      "cell_type": "markdown",
      "metadata": {
        "id": "AlLxAtlziMbP"
      },
      "source": [
        "## <b> Data Description </b>\n",
        "\n",
        "### <b>Nairobi Transport Data.csv (zipped)</b> is the dataset of tickets purchased from Mobiticket for the 14 routes from “up country” into Nairobi between 17 October 2017 and 20 April 2018. This dataset includes the variables: ride_id, seat_number, payment_method, payment_receipt, travel_date, travel_time, travel_from, travel_to, car_type, max_capacity.\n",
        "\n",
        "\n",
        "### Uber Movement traffic data can be accessed [here](https://movement.uber.com). Data is available for Nairobi through June 2018. Uber Movement provided historic hourly travel time between any two points in Nairobi. Any tables that are extracted from the Uber Movement platform can be used in your model.\n",
        "\n",
        "### Variables description:\n",
        "\n",
        "* #### ride_id: unique ID of a vehicle on a specific route on a specific day and time.\n",
        "* #### seat_number: seat assigned to ticket\n",
        "* #### payment_method: method used by customer to purchase ticket from Mobiticket (cash or Mpesa)\n",
        "* #### payment_receipt: unique id number for ticket purchased from Mobiticket\n",
        "* #### travel_date: date of ride departure. (MM/DD/YYYY)\n",
        "* #### travel_time: scheduled departure time of ride. Rides generally depart on time. (hh:mm)\n",
        "* #### travel_from: town from which ride originated\n",
        "* #### travel_to: destination of ride. All rides are to Nairobi.\n",
        "* #### car_type: vehicle type (shuttle or bus)\n",
        "* #### max_capacity: number of seats on the vehicle"
      ]
    },
    {
      "cell_type": "markdown",
      "metadata": {
        "id": "t6xU7aFI_Q1R"
      },
      "source": [
        "Importing librories"
      ]
    },
    {
      "cell_type": "code",
      "metadata": {
        "id": "dByMsuzT8Tnw"
      },
      "source": [
        "import numpy as np\n",
        "import pandas as pd\n",
        "import seaborn as sns\n",
        "import matplotlib.pyplot as plt\n",
        "\n",
        "from sklearn.preprocessing import MinMaxScaler\n",
        "from sklearn.model_selection import train_test_split\n",
        "from sklearn.linear_model import LinearRegression\n",
        "from scipy.stats import zscore\n",
        "\n",
        "from sklearn.feature_selection import VarianceThreshold\n",
        "from sklearn.model_selection import cross_val_score\n",
        "from sklearn.model_selection import RepeatedKFold\n",
        "from sklearn.ensemble import GradientBoostingRegressor\n",
        "from sklearn.metrics import mean_absolute_error, mean_squared_error,r2_score"
      ],
      "execution_count": null,
      "outputs": []
    },
    {
      "cell_type": "code",
      "metadata": {
        "id": "a8Y9CYXQ_o97"
      },
      "source": [
        ""
      ],
      "execution_count": null,
      "outputs": []
    },
    {
      "cell_type": "code",
      "metadata": {
        "colab": {
          "base_uri": "https://localhost:8080/"
        },
        "id": "PeZXqqAK_xgS",
        "outputId": "17625b97-073c-4041-f487-004a7a307ebe"
      },
      "source": [
        "from google.colab import drive\n",
        "drive.mount('/content/drive')"
      ],
      "execution_count": null,
      "outputs": [
        {
          "output_type": "stream",
          "text": [
            "Drive already mounted at /content/drive; to attempt to forcibly remount, call drive.mount(\"/content/drive\", force_remount=True).\n"
          ],
          "name": "stdout"
        }
      ]
    },
    {
      "cell_type": "markdown",
      "metadata": {
        "id": "NjiNqA4JAEft"
      },
      "source": [
        "Importing the csv file"
      ]
    },
    {
      "cell_type": "code",
      "metadata": {
        "id": "6VQq_QkV_yKm"
      },
      "source": [
        "df=pd.read_csv('/content/drive/MyDrive/transport demand/Data & Resources/Nairobi Transport Data.zip')"
      ],
      "execution_count": null,
      "outputs": []
    },
    {
      "cell_type": "code",
      "metadata": {
        "colab": {
          "base_uri": "https://localhost:8080/",
          "height": 206
        },
        "id": "hmA4jounAIRR",
        "outputId": "112e1d20-3b19-4f41-e9ab-15ea9b32952e"
      },
      "source": [
        "df.head()"
      ],
      "execution_count": null,
      "outputs": [
        {
          "output_type": "execute_result",
          "data": {
            "text/html": [
              "<div>\n",
              "<style scoped>\n",
              "    .dataframe tbody tr th:only-of-type {\n",
              "        vertical-align: middle;\n",
              "    }\n",
              "\n",
              "    .dataframe tbody tr th {\n",
              "        vertical-align: top;\n",
              "    }\n",
              "\n",
              "    .dataframe thead th {\n",
              "        text-align: right;\n",
              "    }\n",
              "</style>\n",
              "<table border=\"1\" class=\"dataframe\">\n",
              "  <thead>\n",
              "    <tr style=\"text-align: right;\">\n",
              "      <th></th>\n",
              "      <th>ride_id</th>\n",
              "      <th>seat_number</th>\n",
              "      <th>payment_method</th>\n",
              "      <th>payment_receipt</th>\n",
              "      <th>travel_date</th>\n",
              "      <th>travel_time</th>\n",
              "      <th>travel_from</th>\n",
              "      <th>travel_to</th>\n",
              "      <th>car_type</th>\n",
              "      <th>max_capacity</th>\n",
              "    </tr>\n",
              "  </thead>\n",
              "  <tbody>\n",
              "    <tr>\n",
              "      <th>0</th>\n",
              "      <td>1442</td>\n",
              "      <td>15A</td>\n",
              "      <td>Mpesa</td>\n",
              "      <td>UZUEHCBUSO</td>\n",
              "      <td>17-10-17</td>\n",
              "      <td>7:15</td>\n",
              "      <td>Migori</td>\n",
              "      <td>Nairobi</td>\n",
              "      <td>Bus</td>\n",
              "      <td>49</td>\n",
              "    </tr>\n",
              "    <tr>\n",
              "      <th>1</th>\n",
              "      <td>5437</td>\n",
              "      <td>14A</td>\n",
              "      <td>Mpesa</td>\n",
              "      <td>TIHLBUSGTE</td>\n",
              "      <td>19-11-17</td>\n",
              "      <td>7:12</td>\n",
              "      <td>Migori</td>\n",
              "      <td>Nairobi</td>\n",
              "      <td>Bus</td>\n",
              "      <td>49</td>\n",
              "    </tr>\n",
              "    <tr>\n",
              "      <th>2</th>\n",
              "      <td>5710</td>\n",
              "      <td>8B</td>\n",
              "      <td>Mpesa</td>\n",
              "      <td>EQX8Q5G19O</td>\n",
              "      <td>26-11-17</td>\n",
              "      <td>7:05</td>\n",
              "      <td>Keroka</td>\n",
              "      <td>Nairobi</td>\n",
              "      <td>Bus</td>\n",
              "      <td>49</td>\n",
              "    </tr>\n",
              "    <tr>\n",
              "      <th>3</th>\n",
              "      <td>5777</td>\n",
              "      <td>19A</td>\n",
              "      <td>Mpesa</td>\n",
              "      <td>SGP18CL0ME</td>\n",
              "      <td>27-11-17</td>\n",
              "      <td>7:10</td>\n",
              "      <td>Homa Bay</td>\n",
              "      <td>Nairobi</td>\n",
              "      <td>Bus</td>\n",
              "      <td>49</td>\n",
              "    </tr>\n",
              "    <tr>\n",
              "      <th>4</th>\n",
              "      <td>5778</td>\n",
              "      <td>11A</td>\n",
              "      <td>Mpesa</td>\n",
              "      <td>BM97HFRGL9</td>\n",
              "      <td>27-11-17</td>\n",
              "      <td>7:12</td>\n",
              "      <td>Migori</td>\n",
              "      <td>Nairobi</td>\n",
              "      <td>Bus</td>\n",
              "      <td>49</td>\n",
              "    </tr>\n",
              "  </tbody>\n",
              "</table>\n",
              "</div>"
            ],
            "text/plain": [
              "   ride_id seat_number payment_method  ... travel_to car_type max_capacity\n",
              "0     1442         15A          Mpesa  ...   Nairobi      Bus           49\n",
              "1     5437         14A          Mpesa  ...   Nairobi      Bus           49\n",
              "2     5710          8B          Mpesa  ...   Nairobi      Bus           49\n",
              "3     5777         19A          Mpesa  ...   Nairobi      Bus           49\n",
              "4     5778         11A          Mpesa  ...   Nairobi      Bus           49\n",
              "\n",
              "[5 rows x 10 columns]"
            ]
          },
          "metadata": {
            "tags": []
          },
          "execution_count": 187
        }
      ]
    },
    {
      "cell_type": "code",
      "metadata": {
        "colab": {
          "base_uri": "https://localhost:8080/",
          "height": 206
        },
        "id": "adSU3e1QAKB_",
        "outputId": "64cd83be-a1a0-4ce6-bd5b-42024a3b6ca8"
      },
      "source": [
        "df.tail()"
      ],
      "execution_count": null,
      "outputs": [
        {
          "output_type": "execute_result",
          "data": {
            "text/html": [
              "<div>\n",
              "<style scoped>\n",
              "    .dataframe tbody tr th:only-of-type {\n",
              "        vertical-align: middle;\n",
              "    }\n",
              "\n",
              "    .dataframe tbody tr th {\n",
              "        vertical-align: top;\n",
              "    }\n",
              "\n",
              "    .dataframe thead th {\n",
              "        text-align: right;\n",
              "    }\n",
              "</style>\n",
              "<table border=\"1\" class=\"dataframe\">\n",
              "  <thead>\n",
              "    <tr style=\"text-align: right;\">\n",
              "      <th></th>\n",
              "      <th>ride_id</th>\n",
              "      <th>seat_number</th>\n",
              "      <th>payment_method</th>\n",
              "      <th>payment_receipt</th>\n",
              "      <th>travel_date</th>\n",
              "      <th>travel_time</th>\n",
              "      <th>travel_from</th>\n",
              "      <th>travel_to</th>\n",
              "      <th>car_type</th>\n",
              "      <th>max_capacity</th>\n",
              "    </tr>\n",
              "  </thead>\n",
              "  <tbody>\n",
              "    <tr>\n",
              "      <th>51640</th>\n",
              "      <td>13826</td>\n",
              "      <td>9B</td>\n",
              "      <td>Mpesa</td>\n",
              "      <td>8V2XDDZR6V</td>\n",
              "      <td>20-04-18</td>\n",
              "      <td>8:00</td>\n",
              "      <td>Awendo</td>\n",
              "      <td>Nairobi</td>\n",
              "      <td>Bus</td>\n",
              "      <td>49</td>\n",
              "    </tr>\n",
              "    <tr>\n",
              "      <th>51641</th>\n",
              "      <td>13809</td>\n",
              "      <td>18A</td>\n",
              "      <td>Mpesa</td>\n",
              "      <td>4PEBSVJSNK</td>\n",
              "      <td>20-04-18</td>\n",
              "      <td>8:00</td>\n",
              "      <td>Migori</td>\n",
              "      <td>Nairobi</td>\n",
              "      <td>Bus</td>\n",
              "      <td>49</td>\n",
              "    </tr>\n",
              "    <tr>\n",
              "      <th>51642</th>\n",
              "      <td>13809</td>\n",
              "      <td>17A</td>\n",
              "      <td>Mpesa</td>\n",
              "      <td>LVN64LZDNN</td>\n",
              "      <td>20-04-18</td>\n",
              "      <td>8:00</td>\n",
              "      <td>Migori</td>\n",
              "      <td>Nairobi</td>\n",
              "      <td>Bus</td>\n",
              "      <td>49</td>\n",
              "    </tr>\n",
              "    <tr>\n",
              "      <th>51643</th>\n",
              "      <td>13796</td>\n",
              "      <td>16B</td>\n",
              "      <td>Mpesa</td>\n",
              "      <td>REYBSKTYWN</td>\n",
              "      <td>20-04-18</td>\n",
              "      <td>7:08</td>\n",
              "      <td>Awendo</td>\n",
              "      <td>Nairobi</td>\n",
              "      <td>Bus</td>\n",
              "      <td>49</td>\n",
              "    </tr>\n",
              "    <tr>\n",
              "      <th>51644</th>\n",
              "      <td>14304</td>\n",
              "      <td>7</td>\n",
              "      <td>Mpesa</td>\n",
              "      <td>AQN7FBUSGP</td>\n",
              "      <td>14-11-17</td>\n",
              "      <td>5:10</td>\n",
              "      <td>Kisii</td>\n",
              "      <td>Nairobi</td>\n",
              "      <td>Bus</td>\n",
              "      <td>49</td>\n",
              "    </tr>\n",
              "  </tbody>\n",
              "</table>\n",
              "</div>"
            ],
            "text/plain": [
              "       ride_id seat_number payment_method  ... travel_to car_type max_capacity\n",
              "51640    13826          9B          Mpesa  ...   Nairobi      Bus           49\n",
              "51641    13809         18A          Mpesa  ...   Nairobi      Bus           49\n",
              "51642    13809         17A          Mpesa  ...   Nairobi      Bus           49\n",
              "51643    13796         16B          Mpesa  ...   Nairobi      Bus           49\n",
              "51644    14304           7          Mpesa  ...   Nairobi      Bus           49\n",
              "\n",
              "[5 rows x 10 columns]"
            ]
          },
          "metadata": {
            "tags": []
          },
          "execution_count": 188
        }
      ]
    },
    {
      "cell_type": "code",
      "metadata": {
        "colab": {
          "base_uri": "https://localhost:8080/"
        },
        "id": "IgTEBO6OAMHd",
        "outputId": "65ac1dea-e733-4060-ad1f-d52f9373ad8d"
      },
      "source": [
        "df.info()"
      ],
      "execution_count": null,
      "outputs": [
        {
          "output_type": "stream",
          "text": [
            "<class 'pandas.core.frame.DataFrame'>\n",
            "RangeIndex: 51645 entries, 0 to 51644\n",
            "Data columns (total 10 columns):\n",
            " #   Column           Non-Null Count  Dtype \n",
            "---  ------           --------------  ----- \n",
            " 0   ride_id          51645 non-null  int64 \n",
            " 1   seat_number      51645 non-null  object\n",
            " 2   payment_method   51645 non-null  object\n",
            " 3   payment_receipt  51645 non-null  object\n",
            " 4   travel_date      51645 non-null  object\n",
            " 5   travel_time      51645 non-null  object\n",
            " 6   travel_from      51645 non-null  object\n",
            " 7   travel_to        51645 non-null  object\n",
            " 8   car_type         51645 non-null  object\n",
            " 9   max_capacity     51645 non-null  int64 \n",
            "dtypes: int64(2), object(8)\n",
            "memory usage: 3.9+ MB\n"
          ],
          "name": "stdout"
        }
      ]
    },
    {
      "cell_type": "code",
      "metadata": {
        "colab": {
          "base_uri": "https://localhost:8080/",
          "height": 394
        },
        "id": "G8UgPqa4C71N",
        "outputId": "d44ad245-3750-4536-8b2a-89cc7dda898a"
      },
      "source": [
        "df.describe(include='all')"
      ],
      "execution_count": null,
      "outputs": [
        {
          "output_type": "execute_result",
          "data": {
            "text/html": [
              "<div>\n",
              "<style scoped>\n",
              "    .dataframe tbody tr th:only-of-type {\n",
              "        vertical-align: middle;\n",
              "    }\n",
              "\n",
              "    .dataframe tbody tr th {\n",
              "        vertical-align: top;\n",
              "    }\n",
              "\n",
              "    .dataframe thead th {\n",
              "        text-align: right;\n",
              "    }\n",
              "</style>\n",
              "<table border=\"1\" class=\"dataframe\">\n",
              "  <thead>\n",
              "    <tr style=\"text-align: right;\">\n",
              "      <th></th>\n",
              "      <th>ride_id</th>\n",
              "      <th>seat_number</th>\n",
              "      <th>payment_method</th>\n",
              "      <th>payment_receipt</th>\n",
              "      <th>travel_date</th>\n",
              "      <th>travel_time</th>\n",
              "      <th>travel_from</th>\n",
              "      <th>travel_to</th>\n",
              "      <th>car_type</th>\n",
              "      <th>max_capacity</th>\n",
              "    </tr>\n",
              "  </thead>\n",
              "  <tbody>\n",
              "    <tr>\n",
              "      <th>count</th>\n",
              "      <td>51645.000000</td>\n",
              "      <td>51645</td>\n",
              "      <td>51645</td>\n",
              "      <td>51645</td>\n",
              "      <td>51645</td>\n",
              "      <td>51645</td>\n",
              "      <td>51645</td>\n",
              "      <td>51645</td>\n",
              "      <td>51645</td>\n",
              "      <td>51645.000000</td>\n",
              "    </tr>\n",
              "    <tr>\n",
              "      <th>unique</th>\n",
              "      <td>NaN</td>\n",
              "      <td>61</td>\n",
              "      <td>2</td>\n",
              "      <td>51645</td>\n",
              "      <td>149</td>\n",
              "      <td>78</td>\n",
              "      <td>17</td>\n",
              "      <td>1</td>\n",
              "      <td>2</td>\n",
              "      <td>NaN</td>\n",
              "    </tr>\n",
              "    <tr>\n",
              "      <th>top</th>\n",
              "      <td>NaN</td>\n",
              "      <td>1</td>\n",
              "      <td>Mpesa</td>\n",
              "      <td>FIAHLIESPM</td>\n",
              "      <td>10-12-17</td>\n",
              "      <td>7:09</td>\n",
              "      <td>Kisii</td>\n",
              "      <td>Nairobi</td>\n",
              "      <td>Bus</td>\n",
              "      <td>NaN</td>\n",
              "    </tr>\n",
              "    <tr>\n",
              "      <th>freq</th>\n",
              "      <td>NaN</td>\n",
              "      <td>2065</td>\n",
              "      <td>51532</td>\n",
              "      <td>1</td>\n",
              "      <td>856</td>\n",
              "      <td>3926</td>\n",
              "      <td>22607</td>\n",
              "      <td>51645</td>\n",
              "      <td>31985</td>\n",
              "      <td>NaN</td>\n",
              "    </tr>\n",
              "    <tr>\n",
              "      <th>mean</th>\n",
              "      <td>10188.645793</td>\n",
              "      <td>NaN</td>\n",
              "      <td>NaN</td>\n",
              "      <td>NaN</td>\n",
              "      <td>NaN</td>\n",
              "      <td>NaN</td>\n",
              "      <td>NaN</td>\n",
              "      <td>NaN</td>\n",
              "      <td>NaN</td>\n",
              "      <td>34.534321</td>\n",
              "    </tr>\n",
              "    <tr>\n",
              "      <th>std</th>\n",
              "      <td>2211.295708</td>\n",
              "      <td>NaN</td>\n",
              "      <td>NaN</td>\n",
              "      <td>NaN</td>\n",
              "      <td>NaN</td>\n",
              "      <td>NaN</td>\n",
              "      <td>NaN</td>\n",
              "      <td>NaN</td>\n",
              "      <td>NaN</td>\n",
              "      <td>18.451193</td>\n",
              "    </tr>\n",
              "    <tr>\n",
              "      <th>min</th>\n",
              "      <td>1442.000000</td>\n",
              "      <td>NaN</td>\n",
              "      <td>NaN</td>\n",
              "      <td>NaN</td>\n",
              "      <td>NaN</td>\n",
              "      <td>NaN</td>\n",
              "      <td>NaN</td>\n",
              "      <td>NaN</td>\n",
              "      <td>NaN</td>\n",
              "      <td>11.000000</td>\n",
              "    </tr>\n",
              "    <tr>\n",
              "      <th>25%</th>\n",
              "      <td>8287.000000</td>\n",
              "      <td>NaN</td>\n",
              "      <td>NaN</td>\n",
              "      <td>NaN</td>\n",
              "      <td>NaN</td>\n",
              "      <td>NaN</td>\n",
              "      <td>NaN</td>\n",
              "      <td>NaN</td>\n",
              "      <td>NaN</td>\n",
              "      <td>11.000000</td>\n",
              "    </tr>\n",
              "    <tr>\n",
              "      <th>50%</th>\n",
              "      <td>10353.000000</td>\n",
              "      <td>NaN</td>\n",
              "      <td>NaN</td>\n",
              "      <td>NaN</td>\n",
              "      <td>NaN</td>\n",
              "      <td>NaN</td>\n",
              "      <td>NaN</td>\n",
              "      <td>NaN</td>\n",
              "      <td>NaN</td>\n",
              "      <td>49.000000</td>\n",
              "    </tr>\n",
              "    <tr>\n",
              "      <th>75%</th>\n",
              "      <td>12029.000000</td>\n",
              "      <td>NaN</td>\n",
              "      <td>NaN</td>\n",
              "      <td>NaN</td>\n",
              "      <td>NaN</td>\n",
              "      <td>NaN</td>\n",
              "      <td>NaN</td>\n",
              "      <td>NaN</td>\n",
              "      <td>NaN</td>\n",
              "      <td>49.000000</td>\n",
              "    </tr>\n",
              "    <tr>\n",
              "      <th>max</th>\n",
              "      <td>20117.000000</td>\n",
              "      <td>NaN</td>\n",
              "      <td>NaN</td>\n",
              "      <td>NaN</td>\n",
              "      <td>NaN</td>\n",
              "      <td>NaN</td>\n",
              "      <td>NaN</td>\n",
              "      <td>NaN</td>\n",
              "      <td>NaN</td>\n",
              "      <td>49.000000</td>\n",
              "    </tr>\n",
              "  </tbody>\n",
              "</table>\n",
              "</div>"
            ],
            "text/plain": [
              "             ride_id seat_number  ... car_type  max_capacity\n",
              "count   51645.000000       51645  ...    51645  51645.000000\n",
              "unique           NaN          61  ...        2           NaN\n",
              "top              NaN           1  ...      Bus           NaN\n",
              "freq             NaN        2065  ...    31985           NaN\n",
              "mean    10188.645793         NaN  ...      NaN     34.534321\n",
              "std      2211.295708         NaN  ...      NaN     18.451193\n",
              "min      1442.000000         NaN  ...      NaN     11.000000\n",
              "25%      8287.000000         NaN  ...      NaN     11.000000\n",
              "50%     10353.000000         NaN  ...      NaN     49.000000\n",
              "75%     12029.000000         NaN  ...      NaN     49.000000\n",
              "max     20117.000000         NaN  ...      NaN     49.000000\n",
              "\n",
              "[11 rows x 10 columns]"
            ]
          },
          "metadata": {
            "tags": []
          },
          "execution_count": 190
        }
      ]
    },
    {
      "cell_type": "code",
      "metadata": {
        "colab": {
          "base_uri": "https://localhost:8080/",
          "height": 175
        },
        "id": "Kybk2a0wD96F",
        "outputId": "0ab85212-e865-4eb0-e30b-51da7ca595e6"
      },
      "source": [
        "df.describe(include='object')"
      ],
      "execution_count": null,
      "outputs": [
        {
          "output_type": "execute_result",
          "data": {
            "text/html": [
              "<div>\n",
              "<style scoped>\n",
              "    .dataframe tbody tr th:only-of-type {\n",
              "        vertical-align: middle;\n",
              "    }\n",
              "\n",
              "    .dataframe tbody tr th {\n",
              "        vertical-align: top;\n",
              "    }\n",
              "\n",
              "    .dataframe thead th {\n",
              "        text-align: right;\n",
              "    }\n",
              "</style>\n",
              "<table border=\"1\" class=\"dataframe\">\n",
              "  <thead>\n",
              "    <tr style=\"text-align: right;\">\n",
              "      <th></th>\n",
              "      <th>seat_number</th>\n",
              "      <th>payment_method</th>\n",
              "      <th>payment_receipt</th>\n",
              "      <th>travel_date</th>\n",
              "      <th>travel_time</th>\n",
              "      <th>travel_from</th>\n",
              "      <th>travel_to</th>\n",
              "      <th>car_type</th>\n",
              "    </tr>\n",
              "  </thead>\n",
              "  <tbody>\n",
              "    <tr>\n",
              "      <th>count</th>\n",
              "      <td>51645</td>\n",
              "      <td>51645</td>\n",
              "      <td>51645</td>\n",
              "      <td>51645</td>\n",
              "      <td>51645</td>\n",
              "      <td>51645</td>\n",
              "      <td>51645</td>\n",
              "      <td>51645</td>\n",
              "    </tr>\n",
              "    <tr>\n",
              "      <th>unique</th>\n",
              "      <td>61</td>\n",
              "      <td>2</td>\n",
              "      <td>51645</td>\n",
              "      <td>149</td>\n",
              "      <td>78</td>\n",
              "      <td>17</td>\n",
              "      <td>1</td>\n",
              "      <td>2</td>\n",
              "    </tr>\n",
              "    <tr>\n",
              "      <th>top</th>\n",
              "      <td>1</td>\n",
              "      <td>Mpesa</td>\n",
              "      <td>FIAHLIESPM</td>\n",
              "      <td>10-12-17</td>\n",
              "      <td>7:09</td>\n",
              "      <td>Kisii</td>\n",
              "      <td>Nairobi</td>\n",
              "      <td>Bus</td>\n",
              "    </tr>\n",
              "    <tr>\n",
              "      <th>freq</th>\n",
              "      <td>2065</td>\n",
              "      <td>51532</td>\n",
              "      <td>1</td>\n",
              "      <td>856</td>\n",
              "      <td>3926</td>\n",
              "      <td>22607</td>\n",
              "      <td>51645</td>\n",
              "      <td>31985</td>\n",
              "    </tr>\n",
              "  </tbody>\n",
              "</table>\n",
              "</div>"
            ],
            "text/plain": [
              "       seat_number payment_method  ... travel_to car_type\n",
              "count        51645          51645  ...     51645    51645\n",
              "unique          61              2  ...         1        2\n",
              "top              1          Mpesa  ...   Nairobi      Bus\n",
              "freq          2065          51532  ...     51645    31985\n",
              "\n",
              "[4 rows x 8 columns]"
            ]
          },
          "metadata": {
            "tags": []
          },
          "execution_count": 191
        }
      ]
    },
    {
      "cell_type": "code",
      "metadata": {
        "colab": {
          "base_uri": "https://localhost:8080/"
        },
        "id": "gCa3KLIbC-Fz",
        "outputId": "43c24d49-b83e-4a11-b412-bee0535d90a8"
      },
      "source": [
        "df.shape"
      ],
      "execution_count": null,
      "outputs": [
        {
          "output_type": "execute_result",
          "data": {
            "text/plain": [
              "(51645, 10)"
            ]
          },
          "metadata": {
            "tags": []
          },
          "execution_count": 192
        }
      ]
    },
    {
      "cell_type": "markdown",
      "metadata": {
        "id": "NDUjXQKDDOgF"
      },
      "source": [
        "Dataset has 51645 rows and 10 columns"
      ]
    },
    {
      "cell_type": "markdown",
      "metadata": {
        "id": "Tj4i0NNsCtAH"
      },
      "source": [
        "#<b>Data Cleaning"
      ]
    },
    {
      "cell_type": "markdown",
      "metadata": {
        "id": "nviD6cCFB-7f"
      },
      "source": [
        "Finding Null values in each column"
      ]
    },
    {
      "cell_type": "code",
      "metadata": {
        "colab": {
          "base_uri": "https://localhost:8080/"
        },
        "id": "YKzVooh-AN6S",
        "outputId": "cfeaf6d9-99d8-4580-e7d6-22ed1d113315"
      },
      "source": [
        "df.isnull().sum()"
      ],
      "execution_count": null,
      "outputs": [
        {
          "output_type": "execute_result",
          "data": {
            "text/plain": [
              "ride_id            0\n",
              "seat_number        0\n",
              "payment_method     0\n",
              "payment_receipt    0\n",
              "travel_date        0\n",
              "travel_time        0\n",
              "travel_from        0\n",
              "travel_to          0\n",
              "car_type           0\n",
              "max_capacity       0\n",
              "dtype: int64"
            ]
          },
          "metadata": {
            "tags": []
          },
          "execution_count": 193
        }
      ]
    },
    {
      "cell_type": "markdown",
      "metadata": {
        "id": "y38FgkpfC0iV"
      },
      "source": [
        "There are no null values"
      ]
    },
    {
      "cell_type": "code",
      "metadata": {
        "id": "CgvdBzW-Cy3V"
      },
      "source": [
        "#removing duplicate rows\n",
        "df.drop_duplicates(inplace=True)"
      ],
      "execution_count": null,
      "outputs": []
    },
    {
      "cell_type": "code",
      "metadata": {
        "colab": {
          "base_uri": "https://localhost:8080/"
        },
        "id": "7Si7kcB-DcRV",
        "outputId": "86104e0e-c248-4a11-8e15-4b9bcdb56ac2"
      },
      "source": [
        "df.shape"
      ],
      "execution_count": null,
      "outputs": [
        {
          "output_type": "execute_result",
          "data": {
            "text/plain": [
              "(51645, 10)"
            ]
          },
          "metadata": {
            "tags": []
          },
          "execution_count": 195
        }
      ]
    },
    {
      "cell_type": "markdown",
      "metadata": {
        "id": "LnP8n6-CDmgz"
      },
      "source": [
        "Shape is same so there are no duplicate values"
      ]
    },
    {
      "cell_type": "markdown",
      "metadata": {
        "id": "XJw2E5tLGqU5"
      },
      "source": [
        "#<b>Exploratory Analysis and Visualization"
      ]
    },
    {
      "cell_type": "markdown",
      "metadata": {
        "id": "pnLI1j0_H5Tc"
      },
      "source": [
        "##Type of transportation"
      ]
    },
    {
      "cell_type": "code",
      "metadata": {
        "colab": {
          "base_uri": "https://localhost:8080/",
          "height": 405
        },
        "id": "DSY9UoVzDi0l",
        "outputId": "db9c9bcd-753d-431b-8c29-55ce6f291a73"
      },
      "source": [
        "plt.figure(figsize=(8,6))\n",
        "sns.countplot(y=df['car_type'], hue=df['max_capacity'])"
      ],
      "execution_count": null,
      "outputs": [
        {
          "output_type": "execute_result",
          "data": {
            "text/plain": [
              "<matplotlib.axes._subplots.AxesSubplot at 0x7fc1582c3090>"
            ]
          },
          "metadata": {
            "tags": []
          },
          "execution_count": 196
        },
        {
          "output_type": "display_data",
          "data": {
            "image/png": "[encoded data removed]",
            "text/plain": [
              "<Figure size 576x432 with 1 Axes>"
            ]
          },
          "metadata": {
            "tags": [],
            "needs_background": "light"
          }
        }
      ]
    },
    {
      "cell_type": "markdown",
      "metadata": {
        "id": "hG7VLYGHHhuZ"
      },
      "source": [
        "There are two types of transportation, one is Bus which has maximum capacity 49 other is Shuttle with maximum capacity 11"
      ]
    },
    {
      "cell_type": "markdown",
      "metadata": {
        "id": "kVDGDdVkIQ3V"
      },
      "source": [
        "##Payment Method"
      ]
    },
    {
      "cell_type": "code",
      "metadata": {
        "colab": {
          "base_uri": "https://localhost:8080/",
          "height": 570
        },
        "id": "HWrgcRu2G8GN",
        "outputId": "58b747f2-44d7-46fa-8aa3-3f58ea33182d"
      },
      "source": [
        "plt.subplots(figsize=(14,8))\n",
        "payment_type=df.payment_method.value_counts()\n",
        "plt.pie(payment_type,labels=['Mpesa','cash'],autopct='%1.1f%%')"
      ],
      "execution_count": null,
      "outputs": [
        {
          "output_type": "execute_result",
          "data": {
            "text/plain": [
              "([<matplotlib.patches.Wedge at 0x7fc15675d310>,\n",
              "  <matplotlib.patches.Wedge at 0x7fc15675dc50>],\n",
              " [Text(-1.0999740124079396, 0.007561218630501732, 'Mpesa'),\n",
              "  Text(1.0999740121092798, -0.0075612620781424465, 'cash')],\n",
              " [Text(-0.5999858249497851, 0.004124301071182762, '99.8%'),\n",
              "  Text(0.5999858247868798, -0.004124324769895879, '0.2%')])"
            ]
          },
          "metadata": {
            "tags": []
          },
          "execution_count": 197
        },
        {
          "output_type": "display_data",
          "data": {
            "image/png": "[encoded data removed]",
            "text/plain": [
              "<Figure size 1008x576 with 1 Axes>"
            ]
          },
          "metadata": {
            "tags": []
          }
        }
      ]
    },
    {
      "cell_type": "markdown",
      "metadata": {
        "id": "KoLNf5fHIWNC"
      },
      "source": [
        "Almost all the payments are done in Mpesa, we can see very negligible cash payment"
      ]
    },
    {
      "cell_type": "markdown",
      "metadata": {
        "id": "e-dR5u4BIw7B"
      },
      "source": [
        "##Starting point"
      ]
    },
    {
      "cell_type": "code",
      "metadata": {
        "colab": {
          "base_uri": "https://localhost:8080/",
          "height": 671
        },
        "id": "ZSVn-3v8IOcJ",
        "outputId": "c9ae6386-eba1-41b3-c709-b789d9e8cbd7"
      },
      "source": [
        "plt.subplots(figsize=(10,10))\n",
        "df.travel_from.value_counts().plot(kind='bar')\n",
        "plt.title('travel')"
      ],
      "execution_count": null,
      "outputs": [
        {
          "output_type": "execute_result",
          "data": {
            "text/plain": [
              "Text(0.5, 1.0, 'travel')"
            ]
          },
          "metadata": {
            "tags": []
          },
          "execution_count": 198
        },
        {
          "output_type": "display_data",
          "data": {
            "image/png": "[encoded data removed]",
            "text/plain": [
              "<Figure size 720x720 with 1 Axes>"
            ]
          },
          "metadata": {
            "tags": [],
            "needs_background": "light"
          }
        }
      ]
    },
    {
      "cell_type": "markdown",
      "metadata": {
        "id": "yW5mriYOJB2F"
      },
      "source": [
        "Most of the transportation taking place from Kisii to Nairobi"
      ]
    },
    {
      "cell_type": "markdown",
      "metadata": {
        "id": "Af_DF_BlML3s"
      },
      "source": [
        "##Time wise frequency of transpot "
      ]
    },
    {
      "cell_type": "code",
      "metadata": {
        "id": "NJ9HAMPNMLhg"
      },
      "source": [
        "highest_no_of_buses=df.travel_time.value_counts()"
      ],
      "execution_count": null,
      "outputs": []
    },
    {
      "cell_type": "code",
      "metadata": {
        "colab": {
          "base_uri": "https://localhost:8080/",
          "height": 445
        },
        "id": "XhosHi05I7lH",
        "outputId": "f62b2df8-8d78-4029-c002-a5419c8534e4"
      },
      "source": [
        "plt.subplots(figsize=(30,10))\n",
        "highest_no_of_buses.plot(kind='bar')\n",
        "plt.title('travel')"
      ],
      "execution_count": null,
      "outputs": [
        {
          "output_type": "execute_result",
          "data": {
            "text/plain": [
              "Text(0.5, 1.0, 'travel')"
            ]
          },
          "metadata": {
            "tags": []
          },
          "execution_count": 200
        },
        {
          "output_type": "display_data",
          "data": {
            "image/png": "[encoded data removed]",
            "text/plain": [
              "<Figure size 2160x720 with 1 Axes>"
            ]
          },
          "metadata": {
            "tags": [],
            "needs_background": "light"
          }
        }
      ]
    },
    {
      "cell_type": "markdown",
      "metadata": {
        "id": "2x0ckIxHMb9W"
      },
      "source": [
        "We are expected to have most number of vehicles to depart at 7:09."
      ]
    },
    {
      "cell_type": "code",
      "metadata": {
        "id": "evOmig5CMYpu"
      },
      "source": [
        "x=df[(df['travel_time']=='7:09')]['travel_from']"
      ],
      "execution_count": null,
      "outputs": []
    },
    {
      "cell_type": "code",
      "metadata": {
        "id": "iKqVusupMpCC"
      },
      "source": [
        "rides_at_709=x.value_counts()"
      ],
      "execution_count": null,
      "outputs": []
    },
    {
      "cell_type": "code",
      "metadata": {
        "colab": {
          "base_uri": "https://localhost:8080/",
          "height": 671
        },
        "id": "qunN3yEwMsd9",
        "outputId": "4081a19c-9e81-4c7e-c95b-3bef45ffddb2"
      },
      "source": [
        "plt.subplots(figsize=(10,10))\n",
        "rides_at_709.plot(kind='bar')\n",
        "plt.title('travel')"
      ],
      "execution_count": null,
      "outputs": [
        {
          "output_type": "execute_result",
          "data": {
            "text/plain": [
              "Text(0.5, 1.0, 'travel')"
            ]
          },
          "metadata": {
            "tags": []
          },
          "execution_count": 203
        },
        {
          "output_type": "display_data",
          "data": {
            "image/png": "[encoded data removed]",
            "text/plain": [
              "<Figure size 720x720 with 1 Axes>"
            ]
          },
          "metadata": {
            "tags": [],
            "needs_background": "light"
          }
        }
      ]
    },
    {
      "cell_type": "markdown",
      "metadata": {
        "id": "L3sCPNreMxtJ"
      },
      "source": [
        "The most number of rides start from Homa Bay at 7:09."
      ]
    },
    {
      "cell_type": "markdown",
      "metadata": {
        "id": "q0gDeIcMNnv7"
      },
      "source": [
        "#<b>Data Preprocessing"
      ]
    },
    {
      "cell_type": "markdown",
      "metadata": {
        "id": "8x1BwL-2Nw_c"
      },
      "source": [
        "##The dependent variable isn't given in the dataset, so as our problem statement suggests, we need to predict our number of seats as per each source, with specific date."
      ]
    },
    {
      "cell_type": "code",
      "metadata": {
        "id": "_EpDM3I9MwWJ"
      },
      "source": [
        "df['seats_occupied']=df.groupby(['car_type','travel_date','travel_time','travel_from'])['travel_time'].transform('count')"
      ],
      "execution_count": null,
      "outputs": []
    },
    {
      "cell_type": "code",
      "metadata": {
        "colab": {
          "base_uri": "https://localhost:8080/",
          "height": 206
        },
        "id": "zeiGU3SvN-oM",
        "outputId": "8149da6e-da09-42a4-c8c5-86859a60b573"
      },
      "source": [
        "df.head()"
      ],
      "execution_count": null,
      "outputs": [
        {
          "output_type": "execute_result",
          "data": {
            "text/html": [
              "<div>\n",
              "<style scoped>\n",
              "    .dataframe tbody tr th:only-of-type {\n",
              "        vertical-align: middle;\n",
              "    }\n",
              "\n",
              "    .dataframe tbody tr th {\n",
              "        vertical-align: top;\n",
              "    }\n",
              "\n",
              "    .dataframe thead th {\n",
              "        text-align: right;\n",
              "    }\n",
              "</style>\n",
              "<table border=\"1\" class=\"dataframe\">\n",
              "  <thead>\n",
              "    <tr style=\"text-align: right;\">\n",
              "      <th></th>\n",
              "      <th>ride_id</th>\n",
              "      <th>seat_number</th>\n",
              "      <th>payment_method</th>\n",
              "      <th>payment_receipt</th>\n",
              "      <th>travel_date</th>\n",
              "      <th>travel_time</th>\n",
              "      <th>travel_from</th>\n",
              "      <th>travel_to</th>\n",
              "      <th>car_type</th>\n",
              "      <th>max_capacity</th>\n",
              "      <th>seats_occupied</th>\n",
              "    </tr>\n",
              "  </thead>\n",
              "  <tbody>\n",
              "    <tr>\n",
              "      <th>0</th>\n",
              "      <td>1442</td>\n",
              "      <td>15A</td>\n",
              "      <td>Mpesa</td>\n",
              "      <td>UZUEHCBUSO</td>\n",
              "      <td>17-10-17</td>\n",
              "      <td>7:15</td>\n",
              "      <td>Migori</td>\n",
              "      <td>Nairobi</td>\n",
              "      <td>Bus</td>\n",
              "      <td>49</td>\n",
              "      <td>1</td>\n",
              "    </tr>\n",
              "    <tr>\n",
              "      <th>1</th>\n",
              "      <td>5437</td>\n",
              "      <td>14A</td>\n",
              "      <td>Mpesa</td>\n",
              "      <td>TIHLBUSGTE</td>\n",
              "      <td>19-11-17</td>\n",
              "      <td>7:12</td>\n",
              "      <td>Migori</td>\n",
              "      <td>Nairobi</td>\n",
              "      <td>Bus</td>\n",
              "      <td>49</td>\n",
              "      <td>1</td>\n",
              "    </tr>\n",
              "    <tr>\n",
              "      <th>2</th>\n",
              "      <td>5710</td>\n",
              "      <td>8B</td>\n",
              "      <td>Mpesa</td>\n",
              "      <td>EQX8Q5G19O</td>\n",
              "      <td>26-11-17</td>\n",
              "      <td>7:05</td>\n",
              "      <td>Keroka</td>\n",
              "      <td>Nairobi</td>\n",
              "      <td>Bus</td>\n",
              "      <td>49</td>\n",
              "      <td>1</td>\n",
              "    </tr>\n",
              "    <tr>\n",
              "      <th>3</th>\n",
              "      <td>5777</td>\n",
              "      <td>19A</td>\n",
              "      <td>Mpesa</td>\n",
              "      <td>SGP18CL0ME</td>\n",
              "      <td>27-11-17</td>\n",
              "      <td>7:10</td>\n",
              "      <td>Homa Bay</td>\n",
              "      <td>Nairobi</td>\n",
              "      <td>Bus</td>\n",
              "      <td>49</td>\n",
              "      <td>5</td>\n",
              "    </tr>\n",
              "    <tr>\n",
              "      <th>4</th>\n",
              "      <td>5778</td>\n",
              "      <td>11A</td>\n",
              "      <td>Mpesa</td>\n",
              "      <td>BM97HFRGL9</td>\n",
              "      <td>27-11-17</td>\n",
              "      <td>7:12</td>\n",
              "      <td>Migori</td>\n",
              "      <td>Nairobi</td>\n",
              "      <td>Bus</td>\n",
              "      <td>49</td>\n",
              "      <td>31</td>\n",
              "    </tr>\n",
              "  </tbody>\n",
              "</table>\n",
              "</div>"
            ],
            "text/plain": [
              "   ride_id seat_number payment_method  ... car_type max_capacity seats_occupied\n",
              "0     1442         15A          Mpesa  ...      Bus           49              1\n",
              "1     5437         14A          Mpesa  ...      Bus           49              1\n",
              "2     5710          8B          Mpesa  ...      Bus           49              1\n",
              "3     5777         19A          Mpesa  ...      Bus           49              5\n",
              "4     5778         11A          Mpesa  ...      Bus           49             31\n",
              "\n",
              "[5 rows x 11 columns]"
            ]
          },
          "metadata": {
            "tags": []
          },
          "execution_count": 205
        }
      ]
    },
    {
      "cell_type": "code",
      "metadata": {
        "colab": {
          "base_uri": "https://localhost:8080/",
          "height": 352
        },
        "id": "0q8l3BfNOAB_",
        "outputId": "1afbf005-0370-40fb-b6c0-e51a3fbdb61c"
      },
      "source": [
        "sns.distplot(df[df['car_type']=='Bus']['seats_occupied'])"
      ],
      "execution_count": null,
      "outputs": [
        {
          "output_type": "stream",
          "text": [
            "/usr/local/lib/python3.7/dist-packages/seaborn/distributions.py:2557: FutureWarning: `distplot` is a deprecated function and will be removed in a future version. Please adapt your code to use either `displot` (a figure-level function with similar flexibility) or `histplot` (an axes-level function for histograms).\n",
            "  warnings.warn(msg, FutureWarning)\n"
          ],
          "name": "stderr"
        },
        {
          "output_type": "execute_result",
          "data": {
            "text/plain": [
              "<matplotlib.axes._subplots.AxesSubplot at 0x7fc156384790>"
            ]
          },
          "metadata": {
            "tags": []
          },
          "execution_count": 206
        },
        {
          "output_type": "display_data",
          "data": {
            "image/png": "[encoded data removed]",
            "text/plain": [
              "<Figure size 432x288 with 1 Axes>"
            ]
          },
          "metadata": {
            "tags": [],
            "needs_background": "light"
          }
        }
      ]
    },
    {
      "cell_type": "code",
      "metadata": {
        "colab": {
          "base_uri": "https://localhost:8080/",
          "height": 352
        },
        "id": "7ra4PFhJOYaS",
        "outputId": "52df02c3-a2f6-4c4a-dc4e-0703325e7547"
      },
      "source": [
        "sns.distplot(df[df['car_type']=='shuttle']['seats_occupied'])"
      ],
      "execution_count": null,
      "outputs": [
        {
          "output_type": "stream",
          "text": [
            "/usr/local/lib/python3.7/dist-packages/seaborn/distributions.py:2557: FutureWarning: `distplot` is a deprecated function and will be removed in a future version. Please adapt your code to use either `displot` (a figure-level function with similar flexibility) or `histplot` (an axes-level function for histograms).\n",
            "  warnings.warn(msg, FutureWarning)\n"
          ],
          "name": "stderr"
        },
        {
          "output_type": "execute_result",
          "data": {
            "text/plain": [
              "<matplotlib.axes._subplots.AxesSubplot at 0x7fc156384250>"
            ]
          },
          "metadata": {
            "tags": []
          },
          "execution_count": 207
        },
        {
          "output_type": "display_data",
          "data": {
            "image/png": "[encoded data removed]",
            "text/plain": [
              "<Figure size 432x288 with 1 Axes>"
            ]
          },
          "metadata": {
            "tags": [],
            "needs_background": "light"
          }
        }
      ]
    },
    {
      "cell_type": "code",
      "metadata": {
        "colab": {
          "base_uri": "https://localhost:8080/",
          "height": 423
        },
        "id": "aM7pvqmZaQBi",
        "outputId": "94eae757-ae91-4de8-8cea-ef47c542735c"
      },
      "source": [
        "df[df['max_capacity']<df['seats_occupied']]"
      ],
      "execution_count": null,
      "outputs": [
        {
          "output_type": "execute_result",
          "data": {
            "text/html": [
              "<div>\n",
              "<style scoped>\n",
              "    .dataframe tbody tr th:only-of-type {\n",
              "        vertical-align: middle;\n",
              "    }\n",
              "\n",
              "    .dataframe tbody tr th {\n",
              "        vertical-align: top;\n",
              "    }\n",
              "\n",
              "    .dataframe thead th {\n",
              "        text-align: right;\n",
              "    }\n",
              "</style>\n",
              "<table border=\"1\" class=\"dataframe\">\n",
              "  <thead>\n",
              "    <tr style=\"text-align: right;\">\n",
              "      <th></th>\n",
              "      <th>ride_id</th>\n",
              "      <th>seat_number</th>\n",
              "      <th>payment_method</th>\n",
              "      <th>payment_receipt</th>\n",
              "      <th>travel_date</th>\n",
              "      <th>travel_time</th>\n",
              "      <th>travel_from</th>\n",
              "      <th>travel_to</th>\n",
              "      <th>car_type</th>\n",
              "      <th>max_capacity</th>\n",
              "      <th>seats_occupied</th>\n",
              "    </tr>\n",
              "  </thead>\n",
              "  <tbody>\n",
              "    <tr>\n",
              "      <th>11858</th>\n",
              "      <td>8124</td>\n",
              "      <td>10</td>\n",
              "      <td>Mpesa</td>\n",
              "      <td>0JV6LE7DLQ</td>\n",
              "      <td>13-02-18</td>\n",
              "      <td>7:00</td>\n",
              "      <td>Kisii</td>\n",
              "      <td>Nairobi</td>\n",
              "      <td>shuttle</td>\n",
              "      <td>11</td>\n",
              "      <td>12</td>\n",
              "    </tr>\n",
              "    <tr>\n",
              "      <th>11867</th>\n",
              "      <td>8124</td>\n",
              "      <td>9</td>\n",
              "      <td>Mpesa</td>\n",
              "      <td>UWGS4FIL7R</td>\n",
              "      <td>13-02-18</td>\n",
              "      <td>7:00</td>\n",
              "      <td>Kisii</td>\n",
              "      <td>Nairobi</td>\n",
              "      <td>shuttle</td>\n",
              "      <td>11</td>\n",
              "      <td>12</td>\n",
              "    </tr>\n",
              "    <tr>\n",
              "      <th>11868</th>\n",
              "      <td>8124</td>\n",
              "      <td>1X</td>\n",
              "      <td>Mpesa</td>\n",
              "      <td>HIHF7UODUL</td>\n",
              "      <td>13-02-18</td>\n",
              "      <td>7:00</td>\n",
              "      <td>Kisii</td>\n",
              "      <td>Nairobi</td>\n",
              "      <td>shuttle</td>\n",
              "      <td>11</td>\n",
              "      <td>12</td>\n",
              "    </tr>\n",
              "    <tr>\n",
              "      <th>11869</th>\n",
              "      <td>8124</td>\n",
              "      <td>5</td>\n",
              "      <td>Mpesa</td>\n",
              "      <td>NS3ZEUHTLX</td>\n",
              "      <td>13-02-18</td>\n",
              "      <td>7:00</td>\n",
              "      <td>Kisii</td>\n",
              "      <td>Nairobi</td>\n",
              "      <td>shuttle</td>\n",
              "      <td>11</td>\n",
              "      <td>12</td>\n",
              "    </tr>\n",
              "    <tr>\n",
              "      <th>11870</th>\n",
              "      <td>8124</td>\n",
              "      <td>6</td>\n",
              "      <td>Mpesa</td>\n",
              "      <td>BLUBAEACXM</td>\n",
              "      <td>13-02-18</td>\n",
              "      <td>7:00</td>\n",
              "      <td>Kisii</td>\n",
              "      <td>Nairobi</td>\n",
              "      <td>shuttle</td>\n",
              "      <td>11</td>\n",
              "      <td>12</td>\n",
              "    </tr>\n",
              "    <tr>\n",
              "      <th>...</th>\n",
              "      <td>...</td>\n",
              "      <td>...</td>\n",
              "      <td>...</td>\n",
              "      <td>...</td>\n",
              "      <td>...</td>\n",
              "      <td>...</td>\n",
              "      <td>...</td>\n",
              "      <td>...</td>\n",
              "      <td>...</td>\n",
              "      <td>...</td>\n",
              "      <td>...</td>\n",
              "    </tr>\n",
              "    <tr>\n",
              "      <th>40630</th>\n",
              "      <td>12307</td>\n",
              "      <td>3</td>\n",
              "      <td>Cash</td>\n",
              "      <td>MCG9AZOATB</td>\n",
              "      <td>16-03-18</td>\n",
              "      <td>5:00</td>\n",
              "      <td>Keroka</td>\n",
              "      <td>Nairobi</td>\n",
              "      <td>shuttle</td>\n",
              "      <td>11</td>\n",
              "      <td>12</td>\n",
              "    </tr>\n",
              "    <tr>\n",
              "      <th>40631</th>\n",
              "      <td>12307</td>\n",
              "      <td>1X</td>\n",
              "      <td>Cash</td>\n",
              "      <td>MCG8AXV7VQ</td>\n",
              "      <td>16-03-18</td>\n",
              "      <td>5:00</td>\n",
              "      <td>Keroka</td>\n",
              "      <td>Nairobi</td>\n",
              "      <td>shuttle</td>\n",
              "      <td>11</td>\n",
              "      <td>12</td>\n",
              "    </tr>\n",
              "    <tr>\n",
              "      <th>40632</th>\n",
              "      <td>12307</td>\n",
              "      <td>3</td>\n",
              "      <td>Cash</td>\n",
              "      <td>SAKQGWLMQP</td>\n",
              "      <td>16-03-18</td>\n",
              "      <td>5:00</td>\n",
              "      <td>Keroka</td>\n",
              "      <td>Nairobi</td>\n",
              "      <td>shuttle</td>\n",
              "      <td>11</td>\n",
              "      <td>12</td>\n",
              "    </tr>\n",
              "    <tr>\n",
              "      <th>40633</th>\n",
              "      <td>12307</td>\n",
              "      <td>2</td>\n",
              "      <td>Cash</td>\n",
              "      <td>MCG1AXRHJ5</td>\n",
              "      <td>16-03-18</td>\n",
              "      <td>5:00</td>\n",
              "      <td>Keroka</td>\n",
              "      <td>Nairobi</td>\n",
              "      <td>shuttle</td>\n",
              "      <td>11</td>\n",
              "      <td>12</td>\n",
              "    </tr>\n",
              "    <tr>\n",
              "      <th>40634</th>\n",
              "      <td>12307</td>\n",
              "      <td>1</td>\n",
              "      <td>Cash</td>\n",
              "      <td>MCG5AXQG73</td>\n",
              "      <td>16-03-18</td>\n",
              "      <td>5:00</td>\n",
              "      <td>Keroka</td>\n",
              "      <td>Nairobi</td>\n",
              "      <td>shuttle</td>\n",
              "      <td>11</td>\n",
              "      <td>12</td>\n",
              "    </tr>\n",
              "  </tbody>\n",
              "</table>\n",
              "<p>194 rows × 11 columns</p>\n",
              "</div>"
            ],
            "text/plain": [
              "       ride_id seat_number  ... max_capacity seats_occupied\n",
              "11858     8124          10  ...           11             12\n",
              "11867     8124           9  ...           11             12\n",
              "11868     8124          1X  ...           11             12\n",
              "11869     8124           5  ...           11             12\n",
              "11870     8124           6  ...           11             12\n",
              "...        ...         ...  ...          ...            ...\n",
              "40630    12307           3  ...           11             12\n",
              "40631    12307          1X  ...           11             12\n",
              "40632    12307           3  ...           11             12\n",
              "40633    12307           2  ...           11             12\n",
              "40634    12307           1  ...           11             12\n",
              "\n",
              "[194 rows x 11 columns]"
            ]
          },
          "metadata": {
            "tags": []
          },
          "execution_count": 208
        }
      ]
    },
    {
      "cell_type": "code",
      "metadata": {
        "id": "9c_j_tb6OeaH"
      },
      "source": [
        "index=df[df['max_capacity']<df['seats_occupied']].index"
      ],
      "execution_count": null,
      "outputs": []
    },
    {
      "cell_type": "code",
      "metadata": {
        "colab": {
          "base_uri": "https://localhost:8080/"
        },
        "id": "92kSIW-xbHKU",
        "outputId": "8a321fac-7e72-465a-a0ef-986e68a818c6"
      },
      "source": [
        "index"
      ],
      "execution_count": null,
      "outputs": [
        {
          "output_type": "execute_result",
          "data": {
            "text/plain": [
              "Int64Index([11858, 11867, 11868, 11869, 11870, 11871, 11872, 11873, 11875,\n",
              "            11880,\n",
              "            ...\n",
              "            40625, 40626, 40627, 40628, 40629, 40630, 40631, 40632, 40633,\n",
              "            40634],\n",
              "           dtype='int64', length=194)"
            ]
          },
          "metadata": {
            "tags": []
          },
          "execution_count": 210
        }
      ]
    },
    {
      "cell_type": "markdown",
      "metadata": {
        "id": "CdFb6gLoOuJt"
      },
      "source": [
        "we can see that few rows has seat accupied is greater than maximum capacity which is unlikly to happen so we are dropping these rows as number of these rows are ngligible compared to total dataset"
      ]
    },
    {
      "cell_type": "code",
      "metadata": {
        "id": "h8kXCeg6OmKu"
      },
      "source": [
        "df.drop(index=index, inplace=True)"
      ],
      "execution_count": null,
      "outputs": []
    },
    {
      "cell_type": "markdown",
      "metadata": {
        "id": "qtAynfwDP0EW"
      },
      "source": [
        "payment_receipt and seat_number are unique value. they do not required for our modelling "
      ]
    },
    {
      "cell_type": "code",
      "metadata": {
        "id": "2qrSMy3GPV9w"
      },
      "source": [
        "df.drop(columns={'payment_receipt','seat_number'},inplace=True)"
      ],
      "execution_count": null,
      "outputs": []
    },
    {
      "cell_type": "code",
      "metadata": {
        "colab": {
          "base_uri": "https://localhost:8080/",
          "height": 206
        },
        "id": "bX0FqSfpQSSn",
        "outputId": "849c91b3-a4a3-4a11-c3eb-13b99d38c377"
      },
      "source": [
        "df.head()"
      ],
      "execution_count": null,
      "outputs": [
        {
          "output_type": "execute_result",
          "data": {
            "text/html": [
              "<div>\n",
              "<style scoped>\n",
              "    .dataframe tbody tr th:only-of-type {\n",
              "        vertical-align: middle;\n",
              "    }\n",
              "\n",
              "    .dataframe tbody tr th {\n",
              "        vertical-align: top;\n",
              "    }\n",
              "\n",
              "    .dataframe thead th {\n",
              "        text-align: right;\n",
              "    }\n",
              "</style>\n",
              "<table border=\"1\" class=\"dataframe\">\n",
              "  <thead>\n",
              "    <tr style=\"text-align: right;\">\n",
              "      <th></th>\n",
              "      <th>ride_id</th>\n",
              "      <th>payment_method</th>\n",
              "      <th>travel_date</th>\n",
              "      <th>travel_time</th>\n",
              "      <th>travel_from</th>\n",
              "      <th>travel_to</th>\n",
              "      <th>car_type</th>\n",
              "      <th>max_capacity</th>\n",
              "      <th>seats_occupied</th>\n",
              "    </tr>\n",
              "  </thead>\n",
              "  <tbody>\n",
              "    <tr>\n",
              "      <th>0</th>\n",
              "      <td>1442</td>\n",
              "      <td>Mpesa</td>\n",
              "      <td>17-10-17</td>\n",
              "      <td>7:15</td>\n",
              "      <td>Migori</td>\n",
              "      <td>Nairobi</td>\n",
              "      <td>Bus</td>\n",
              "      <td>49</td>\n",
              "      <td>1</td>\n",
              "    </tr>\n",
              "    <tr>\n",
              "      <th>1</th>\n",
              "      <td>5437</td>\n",
              "      <td>Mpesa</td>\n",
              "      <td>19-11-17</td>\n",
              "      <td>7:12</td>\n",
              "      <td>Migori</td>\n",
              "      <td>Nairobi</td>\n",
              "      <td>Bus</td>\n",
              "      <td>49</td>\n",
              "      <td>1</td>\n",
              "    </tr>\n",
              "    <tr>\n",
              "      <th>2</th>\n",
              "      <td>5710</td>\n",
              "      <td>Mpesa</td>\n",
              "      <td>26-11-17</td>\n",
              "      <td>7:05</td>\n",
              "      <td>Keroka</td>\n",
              "      <td>Nairobi</td>\n",
              "      <td>Bus</td>\n",
              "      <td>49</td>\n",
              "      <td>1</td>\n",
              "    </tr>\n",
              "    <tr>\n",
              "      <th>3</th>\n",
              "      <td>5777</td>\n",
              "      <td>Mpesa</td>\n",
              "      <td>27-11-17</td>\n",
              "      <td>7:10</td>\n",
              "      <td>Homa Bay</td>\n",
              "      <td>Nairobi</td>\n",
              "      <td>Bus</td>\n",
              "      <td>49</td>\n",
              "      <td>5</td>\n",
              "    </tr>\n",
              "    <tr>\n",
              "      <th>4</th>\n",
              "      <td>5778</td>\n",
              "      <td>Mpesa</td>\n",
              "      <td>27-11-17</td>\n",
              "      <td>7:12</td>\n",
              "      <td>Migori</td>\n",
              "      <td>Nairobi</td>\n",
              "      <td>Bus</td>\n",
              "      <td>49</td>\n",
              "      <td>31</td>\n",
              "    </tr>\n",
              "  </tbody>\n",
              "</table>\n",
              "</div>"
            ],
            "text/plain": [
              "   ride_id payment_method travel_date  ... car_type max_capacity seats_occupied\n",
              "0     1442          Mpesa    17-10-17  ...      Bus           49              1\n",
              "1     5437          Mpesa    19-11-17  ...      Bus           49              1\n",
              "2     5710          Mpesa    26-11-17  ...      Bus           49              1\n",
              "3     5777          Mpesa    27-11-17  ...      Bus           49              5\n",
              "4     5778          Mpesa    27-11-17  ...      Bus           49             31\n",
              "\n",
              "[5 rows x 9 columns]"
            ]
          },
          "metadata": {
            "tags": []
          },
          "execution_count": 213
        }
      ]
    },
    {
      "cell_type": "code",
      "metadata": {
        "colab": {
          "base_uri": "https://localhost:8080/",
          "height": 864
        },
        "id": "7lx06T34Qjn5",
        "outputId": "66c556df-f860-4b87-a182-3240dfa3febf"
      },
      "source": [
        "df[(df['car_type']=='Bus') & (df['travel_date']=='27-11-17') & (df['travel_time']=='7:09') & (df['travel_from']=='Homa Bay')]"
      ],
      "execution_count": null,
      "outputs": [
        {
          "output_type": "execute_result",
          "data": {
            "text/html": [
              "<div>\n",
              "<style scoped>\n",
              "    .dataframe tbody tr th:only-of-type {\n",
              "        vertical-align: middle;\n",
              "    }\n",
              "\n",
              "    .dataframe tbody tr th {\n",
              "        vertical-align: top;\n",
              "    }\n",
              "\n",
              "    .dataframe thead th {\n",
              "        text-align: right;\n",
              "    }\n",
              "</style>\n",
              "<table border=\"1\" class=\"dataframe\">\n",
              "  <thead>\n",
              "    <tr style=\"text-align: right;\">\n",
              "      <th></th>\n",
              "      <th>ride_id</th>\n",
              "      <th>payment_method</th>\n",
              "      <th>travel_date</th>\n",
              "      <th>travel_time</th>\n",
              "      <th>travel_from</th>\n",
              "      <th>travel_to</th>\n",
              "      <th>car_type</th>\n",
              "      <th>max_capacity</th>\n",
              "      <th>seats_occupied</th>\n",
              "    </tr>\n",
              "  </thead>\n",
              "  <tbody>\n",
              "    <tr>\n",
              "      <th>9</th>\n",
              "      <td>5781</td>\n",
              "      <td>Mpesa</td>\n",
              "      <td>27-11-17</td>\n",
              "      <td>7:09</td>\n",
              "      <td>Homa Bay</td>\n",
              "      <td>Nairobi</td>\n",
              "      <td>Bus</td>\n",
              "      <td>49</td>\n",
              "      <td>26</td>\n",
              "    </tr>\n",
              "    <tr>\n",
              "      <th>10</th>\n",
              "      <td>5781</td>\n",
              "      <td>Mpesa</td>\n",
              "      <td>27-11-17</td>\n",
              "      <td>7:09</td>\n",
              "      <td>Homa Bay</td>\n",
              "      <td>Nairobi</td>\n",
              "      <td>Bus</td>\n",
              "      <td>49</td>\n",
              "      <td>26</td>\n",
              "    </tr>\n",
              "    <tr>\n",
              "      <th>11</th>\n",
              "      <td>5781</td>\n",
              "      <td>Mpesa</td>\n",
              "      <td>27-11-17</td>\n",
              "      <td>7:09</td>\n",
              "      <td>Homa Bay</td>\n",
              "      <td>Nairobi</td>\n",
              "      <td>Bus</td>\n",
              "      <td>49</td>\n",
              "      <td>26</td>\n",
              "    </tr>\n",
              "    <tr>\n",
              "      <th>21</th>\n",
              "      <td>5781</td>\n",
              "      <td>Mpesa</td>\n",
              "      <td>27-11-17</td>\n",
              "      <td>7:09</td>\n",
              "      <td>Homa Bay</td>\n",
              "      <td>Nairobi</td>\n",
              "      <td>Bus</td>\n",
              "      <td>49</td>\n",
              "      <td>26</td>\n",
              "    </tr>\n",
              "    <tr>\n",
              "      <th>32</th>\n",
              "      <td>5781</td>\n",
              "      <td>Mpesa</td>\n",
              "      <td>27-11-17</td>\n",
              "      <td>7:09</td>\n",
              "      <td>Homa Bay</td>\n",
              "      <td>Nairobi</td>\n",
              "      <td>Bus</td>\n",
              "      <td>49</td>\n",
              "      <td>26</td>\n",
              "    </tr>\n",
              "    <tr>\n",
              "      <th>49</th>\n",
              "      <td>5781</td>\n",
              "      <td>Mpesa</td>\n",
              "      <td>27-11-17</td>\n",
              "      <td>7:09</td>\n",
              "      <td>Homa Bay</td>\n",
              "      <td>Nairobi</td>\n",
              "      <td>Bus</td>\n",
              "      <td>49</td>\n",
              "      <td>26</td>\n",
              "    </tr>\n",
              "    <tr>\n",
              "      <th>51</th>\n",
              "      <td>5781</td>\n",
              "      <td>Mpesa</td>\n",
              "      <td>27-11-17</td>\n",
              "      <td>7:09</td>\n",
              "      <td>Homa Bay</td>\n",
              "      <td>Nairobi</td>\n",
              "      <td>Bus</td>\n",
              "      <td>49</td>\n",
              "      <td>26</td>\n",
              "    </tr>\n",
              "    <tr>\n",
              "      <th>64</th>\n",
              "      <td>5781</td>\n",
              "      <td>Mpesa</td>\n",
              "      <td>27-11-17</td>\n",
              "      <td>7:09</td>\n",
              "      <td>Homa Bay</td>\n",
              "      <td>Nairobi</td>\n",
              "      <td>Bus</td>\n",
              "      <td>49</td>\n",
              "      <td>26</td>\n",
              "    </tr>\n",
              "    <tr>\n",
              "      <th>65</th>\n",
              "      <td>5781</td>\n",
              "      <td>Mpesa</td>\n",
              "      <td>27-11-17</td>\n",
              "      <td>7:09</td>\n",
              "      <td>Homa Bay</td>\n",
              "      <td>Nairobi</td>\n",
              "      <td>Bus</td>\n",
              "      <td>49</td>\n",
              "      <td>26</td>\n",
              "    </tr>\n",
              "    <tr>\n",
              "      <th>66</th>\n",
              "      <td>5781</td>\n",
              "      <td>Mpesa</td>\n",
              "      <td>27-11-17</td>\n",
              "      <td>7:09</td>\n",
              "      <td>Homa Bay</td>\n",
              "      <td>Nairobi</td>\n",
              "      <td>Bus</td>\n",
              "      <td>49</td>\n",
              "      <td>26</td>\n",
              "    </tr>\n",
              "    <tr>\n",
              "      <th>67</th>\n",
              "      <td>5781</td>\n",
              "      <td>Mpesa</td>\n",
              "      <td>27-11-17</td>\n",
              "      <td>7:09</td>\n",
              "      <td>Homa Bay</td>\n",
              "      <td>Nairobi</td>\n",
              "      <td>Bus</td>\n",
              "      <td>49</td>\n",
              "      <td>26</td>\n",
              "    </tr>\n",
              "    <tr>\n",
              "      <th>72</th>\n",
              "      <td>5781</td>\n",
              "      <td>Mpesa</td>\n",
              "      <td>27-11-17</td>\n",
              "      <td>7:09</td>\n",
              "      <td>Homa Bay</td>\n",
              "      <td>Nairobi</td>\n",
              "      <td>Bus</td>\n",
              "      <td>49</td>\n",
              "      <td>26</td>\n",
              "    </tr>\n",
              "    <tr>\n",
              "      <th>75</th>\n",
              "      <td>5781</td>\n",
              "      <td>Mpesa</td>\n",
              "      <td>27-11-17</td>\n",
              "      <td>7:09</td>\n",
              "      <td>Homa Bay</td>\n",
              "      <td>Nairobi</td>\n",
              "      <td>Bus</td>\n",
              "      <td>49</td>\n",
              "      <td>26</td>\n",
              "    </tr>\n",
              "    <tr>\n",
              "      <th>79</th>\n",
              "      <td>5781</td>\n",
              "      <td>Mpesa</td>\n",
              "      <td>27-11-17</td>\n",
              "      <td>7:09</td>\n",
              "      <td>Homa Bay</td>\n",
              "      <td>Nairobi</td>\n",
              "      <td>Bus</td>\n",
              "      <td>49</td>\n",
              "      <td>26</td>\n",
              "    </tr>\n",
              "    <tr>\n",
              "      <th>86</th>\n",
              "      <td>5781</td>\n",
              "      <td>Mpesa</td>\n",
              "      <td>27-11-17</td>\n",
              "      <td>7:09</td>\n",
              "      <td>Homa Bay</td>\n",
              "      <td>Nairobi</td>\n",
              "      <td>Bus</td>\n",
              "      <td>49</td>\n",
              "      <td>26</td>\n",
              "    </tr>\n",
              "    <tr>\n",
              "      <th>87</th>\n",
              "      <td>5781</td>\n",
              "      <td>Mpesa</td>\n",
              "      <td>27-11-17</td>\n",
              "      <td>7:09</td>\n",
              "      <td>Homa Bay</td>\n",
              "      <td>Nairobi</td>\n",
              "      <td>Bus</td>\n",
              "      <td>49</td>\n",
              "      <td>26</td>\n",
              "    </tr>\n",
              "    <tr>\n",
              "      <th>88</th>\n",
              "      <td>5781</td>\n",
              "      <td>Mpesa</td>\n",
              "      <td>27-11-17</td>\n",
              "      <td>7:09</td>\n",
              "      <td>Homa Bay</td>\n",
              "      <td>Nairobi</td>\n",
              "      <td>Bus</td>\n",
              "      <td>49</td>\n",
              "      <td>26</td>\n",
              "    </tr>\n",
              "    <tr>\n",
              "      <th>92</th>\n",
              "      <td>5781</td>\n",
              "      <td>Mpesa</td>\n",
              "      <td>27-11-17</td>\n",
              "      <td>7:09</td>\n",
              "      <td>Homa Bay</td>\n",
              "      <td>Nairobi</td>\n",
              "      <td>Bus</td>\n",
              "      <td>49</td>\n",
              "      <td>26</td>\n",
              "    </tr>\n",
              "    <tr>\n",
              "      <th>93</th>\n",
              "      <td>5781</td>\n",
              "      <td>Mpesa</td>\n",
              "      <td>27-11-17</td>\n",
              "      <td>7:09</td>\n",
              "      <td>Homa Bay</td>\n",
              "      <td>Nairobi</td>\n",
              "      <td>Bus</td>\n",
              "      <td>49</td>\n",
              "      <td>26</td>\n",
              "    </tr>\n",
              "    <tr>\n",
              "      <th>102</th>\n",
              "      <td>5781</td>\n",
              "      <td>Mpesa</td>\n",
              "      <td>27-11-17</td>\n",
              "      <td>7:09</td>\n",
              "      <td>Homa Bay</td>\n",
              "      <td>Nairobi</td>\n",
              "      <td>Bus</td>\n",
              "      <td>49</td>\n",
              "      <td>26</td>\n",
              "    </tr>\n",
              "    <tr>\n",
              "      <th>138</th>\n",
              "      <td>5781</td>\n",
              "      <td>Mpesa</td>\n",
              "      <td>27-11-17</td>\n",
              "      <td>7:09</td>\n",
              "      <td>Homa Bay</td>\n",
              "      <td>Nairobi</td>\n",
              "      <td>Bus</td>\n",
              "      <td>49</td>\n",
              "      <td>26</td>\n",
              "    </tr>\n",
              "    <tr>\n",
              "      <th>171</th>\n",
              "      <td>5781</td>\n",
              "      <td>Mpesa</td>\n",
              "      <td>27-11-17</td>\n",
              "      <td>7:09</td>\n",
              "      <td>Homa Bay</td>\n",
              "      <td>Nairobi</td>\n",
              "      <td>Bus</td>\n",
              "      <td>49</td>\n",
              "      <td>26</td>\n",
              "    </tr>\n",
              "    <tr>\n",
              "      <th>208</th>\n",
              "      <td>5781</td>\n",
              "      <td>Mpesa</td>\n",
              "      <td>27-11-17</td>\n",
              "      <td>7:09</td>\n",
              "      <td>Homa Bay</td>\n",
              "      <td>Nairobi</td>\n",
              "      <td>Bus</td>\n",
              "      <td>49</td>\n",
              "      <td>26</td>\n",
              "    </tr>\n",
              "    <tr>\n",
              "      <th>209</th>\n",
              "      <td>5781</td>\n",
              "      <td>Mpesa</td>\n",
              "      <td>27-11-17</td>\n",
              "      <td>7:09</td>\n",
              "      <td>Homa Bay</td>\n",
              "      <td>Nairobi</td>\n",
              "      <td>Bus</td>\n",
              "      <td>49</td>\n",
              "      <td>26</td>\n",
              "    </tr>\n",
              "    <tr>\n",
              "      <th>230</th>\n",
              "      <td>5781</td>\n",
              "      <td>Mpesa</td>\n",
              "      <td>27-11-17</td>\n",
              "      <td>7:09</td>\n",
              "      <td>Homa Bay</td>\n",
              "      <td>Nairobi</td>\n",
              "      <td>Bus</td>\n",
              "      <td>49</td>\n",
              "      <td>26</td>\n",
              "    </tr>\n",
              "    <tr>\n",
              "      <th>249</th>\n",
              "      <td>5781</td>\n",
              "      <td>Mpesa</td>\n",
              "      <td>27-11-17</td>\n",
              "      <td>7:09</td>\n",
              "      <td>Homa Bay</td>\n",
              "      <td>Nairobi</td>\n",
              "      <td>Bus</td>\n",
              "      <td>49</td>\n",
              "      <td>26</td>\n",
              "    </tr>\n",
              "  </tbody>\n",
              "</table>\n",
              "</div>"
            ],
            "text/plain": [
              "     ride_id payment_method travel_date  ... car_type max_capacity seats_occupied\n",
              "9       5781          Mpesa    27-11-17  ...      Bus           49             26\n",
              "10      5781          Mpesa    27-11-17  ...      Bus           49             26\n",
              "11      5781          Mpesa    27-11-17  ...      Bus           49             26\n",
              "21      5781          Mpesa    27-11-17  ...      Bus           49             26\n",
              "32      5781          Mpesa    27-11-17  ...      Bus           49             26\n",
              "49      5781          Mpesa    27-11-17  ...      Bus           49             26\n",
              "51      5781          Mpesa    27-11-17  ...      Bus           49             26\n",
              "64      5781          Mpesa    27-11-17  ...      Bus           49             26\n",
              "65      5781          Mpesa    27-11-17  ...      Bus           49             26\n",
              "66      5781          Mpesa    27-11-17  ...      Bus           49             26\n",
              "67      5781          Mpesa    27-11-17  ...      Bus           49             26\n",
              "72      5781          Mpesa    27-11-17  ...      Bus           49             26\n",
              "75      5781          Mpesa    27-11-17  ...      Bus           49             26\n",
              "79      5781          Mpesa    27-11-17  ...      Bus           49             26\n",
              "86      5781          Mpesa    27-11-17  ...      Bus           49             26\n",
              "87      5781          Mpesa    27-11-17  ...      Bus           49             26\n",
              "88      5781          Mpesa    27-11-17  ...      Bus           49             26\n",
              "92      5781          Mpesa    27-11-17  ...      Bus           49             26\n",
              "93      5781          Mpesa    27-11-17  ...      Bus           49             26\n",
              "102     5781          Mpesa    27-11-17  ...      Bus           49             26\n",
              "138     5781          Mpesa    27-11-17  ...      Bus           49             26\n",
              "171     5781          Mpesa    27-11-17  ...      Bus           49             26\n",
              "208     5781          Mpesa    27-11-17  ...      Bus           49             26\n",
              "209     5781          Mpesa    27-11-17  ...      Bus           49             26\n",
              "230     5781          Mpesa    27-11-17  ...      Bus           49             26\n",
              "249     5781          Mpesa    27-11-17  ...      Bus           49             26\n",
              "\n",
              "[26 rows x 9 columns]"
            ]
          },
          "metadata": {
            "tags": []
          },
          "execution_count": 214
        }
      ]
    },
    {
      "cell_type": "markdown",
      "metadata": {
        "id": "twt1_6vxQ3nR"
      },
      "source": [
        "As we can see that the Ride_id is same for perticular transportation vehicle at perticular travell time, date and starting point."
      ]
    },
    {
      "cell_type": "code",
      "metadata": {
        "id": "oQHsXTsJQXa3"
      },
      "source": [
        "df.drop_duplicates(inplace=True)"
      ],
      "execution_count": null,
      "outputs": []
    },
    {
      "cell_type": "code",
      "metadata": {
        "colab": {
          "base_uri": "https://localhost:8080/"
        },
        "id": "5ez8cO24Rdrp",
        "outputId": "39406fd2-bf8f-4dca-8ee3-1e717862d10b"
      },
      "source": [
        "df.shape"
      ],
      "execution_count": null,
      "outputs": [
        {
          "output_type": "execute_result",
          "data": {
            "text/plain": [
              "(6278, 9)"
            ]
          },
          "metadata": {
            "tags": []
          },
          "execution_count": 216
        }
      ]
    },
    {
      "cell_type": "markdown",
      "metadata": {
        "id": "pnKveQxbRj95"
      },
      "source": [
        "Finally there are 6278 unique rides "
      ]
    },
    {
      "cell_type": "markdown",
      "metadata": {
        "id": "povSvWHCRxHd"
      },
      "source": [
        "#One hat encoding "
      ]
    },
    {
      "cell_type": "code",
      "metadata": {
        "id": "k8SyOyEdRipn"
      },
      "source": [
        "df=pd.get_dummies(df,columns=['travel_from'],drop_first=True)"
      ],
      "execution_count": null,
      "outputs": []
    },
    {
      "cell_type": "code",
      "metadata": {
        "id": "Duz_2b8SR-t8"
      },
      "source": [
        "df['payment_method'].replace({'Mpesa':1,'Cash':0},inplace=True)"
      ],
      "execution_count": null,
      "outputs": []
    },
    {
      "cell_type": "code",
      "metadata": {
        "id": "vW3PaPWASGAe"
      },
      "source": [
        "df['car_type'].replace({'Bus':1,'shuttle':0},inplace=True)"
      ],
      "execution_count": null,
      "outputs": []
    },
    {
      "cell_type": "markdown",
      "metadata": {
        "id": "qJWgTBv8ST8-"
      },
      "source": [
        "#Combining travel date and travel time"
      ]
    },
    {
      "cell_type": "code",
      "metadata": {
        "id": "9v92_IqLSPBf"
      },
      "source": [
        "df['Date_time']=df['travel_date']+' '+df['travel_time']"
      ],
      "execution_count": null,
      "outputs": []
    },
    {
      "cell_type": "code",
      "metadata": {
        "id": "3pwdZkp_nrlc"
      },
      "source": [
        "df[\"Date_time\"]=pd.to_datetime(df[\"Date_time\"])\n",
        "df[\"date\"]=df[\"Date_time\"].dt.day\n",
        "df[\"hour\"]=df[\"Date_time\"].dt.hour\n",
        "df[\"minute\"]=df[\"Date_time\"].dt.minute\n",
        "df[\"year\"]=df[\"Date_time\"].dt.year\n",
        "df[\"month\"]=df[\"Date_time\"].dt.month"
      ],
      "execution_count": null,
      "outputs": []
    },
    {
      "cell_type": "code",
      "metadata": {
        "id": "f2ZL7Im7Sh0E"
      },
      "source": [
        "df.drop(columns={'travel_date','travel_time'},inplace=True)"
      ],
      "execution_count": null,
      "outputs": []
    },
    {
      "cell_type": "code",
      "metadata": {
        "colab": {
          "base_uri": "https://localhost:8080/",
          "height": 417
        },
        "id": "PG7kWDPUSoZa",
        "outputId": "9f5db485-5f3f-4cbe-d2a8-82f57c03b89a"
      },
      "source": [
        "df.head()"
      ],
      "execution_count": null,
      "outputs": [
        {
          "output_type": "execute_result",
          "data": {
            "text/html": [
              "<div>\n",
              "<style scoped>\n",
              "    .dataframe tbody tr th:only-of-type {\n",
              "        vertical-align: middle;\n",
              "    }\n",
              "\n",
              "    .dataframe tbody tr th {\n",
              "        vertical-align: top;\n",
              "    }\n",
              "\n",
              "    .dataframe thead th {\n",
              "        text-align: right;\n",
              "    }\n",
              "</style>\n",
              "<table border=\"1\" class=\"dataframe\">\n",
              "  <thead>\n",
              "    <tr style=\"text-align: right;\">\n",
              "      <th></th>\n",
              "      <th>ride_id</th>\n",
              "      <th>payment_method</th>\n",
              "      <th>travel_to</th>\n",
              "      <th>car_type</th>\n",
              "      <th>max_capacity</th>\n",
              "      <th>seats_occupied</th>\n",
              "      <th>travel_from_Homa Bay</th>\n",
              "      <th>travel_from_Kehancha</th>\n",
              "      <th>travel_from_Kendu Bay</th>\n",
              "      <th>travel_from_Keroka</th>\n",
              "      <th>travel_from_Keumbu</th>\n",
              "      <th>travel_from_Kijauri</th>\n",
              "      <th>travel_from_Kisii</th>\n",
              "      <th>travel_from_Mbita</th>\n",
              "      <th>travel_from_Migori</th>\n",
              "      <th>travel_from_Ndhiwa</th>\n",
              "      <th>travel_from_Nyachenge</th>\n",
              "      <th>travel_from_Oyugis</th>\n",
              "      <th>travel_from_Rodi</th>\n",
              "      <th>travel_from_Rongo</th>\n",
              "      <th>travel_from_Sirare</th>\n",
              "      <th>travel_from_Sori</th>\n",
              "      <th>Date_time</th>\n",
              "      <th>hour</th>\n",
              "      <th>minute</th>\n",
              "      <th>year</th>\n",
              "      <th>month</th>\n",
              "      <th>date</th>\n",
              "    </tr>\n",
              "  </thead>\n",
              "  <tbody>\n",
              "    <tr>\n",
              "      <th>0</th>\n",
              "      <td>1442</td>\n",
              "      <td>1</td>\n",
              "      <td>Nairobi</td>\n",
              "      <td>1</td>\n",
              "      <td>49</td>\n",
              "      <td>1</td>\n",
              "      <td>0</td>\n",
              "      <td>0</td>\n",
              "      <td>0</td>\n",
              "      <td>0</td>\n",
              "      <td>0</td>\n",
              "      <td>0</td>\n",
              "      <td>0</td>\n",
              "      <td>0</td>\n",
              "      <td>1</td>\n",
              "      <td>0</td>\n",
              "      <td>0</td>\n",
              "      <td>0</td>\n",
              "      <td>0</td>\n",
              "      <td>0</td>\n",
              "      <td>0</td>\n",
              "      <td>0</td>\n",
              "      <td>2017-10-17 07:15:00</td>\n",
              "      <td>7</td>\n",
              "      <td>15</td>\n",
              "      <td>2017</td>\n",
              "      <td>10</td>\n",
              "      <td>17</td>\n",
              "    </tr>\n",
              "    <tr>\n",
              "      <th>1</th>\n",
              "      <td>5437</td>\n",
              "      <td>1</td>\n",
              "      <td>Nairobi</td>\n",
              "      <td>1</td>\n",
              "      <td>49</td>\n",
              "      <td>1</td>\n",
              "      <td>0</td>\n",
              "      <td>0</td>\n",
              "      <td>0</td>\n",
              "      <td>0</td>\n",
              "      <td>0</td>\n",
              "      <td>0</td>\n",
              "      <td>0</td>\n",
              "      <td>0</td>\n",
              "      <td>1</td>\n",
              "      <td>0</td>\n",
              "      <td>0</td>\n",
              "      <td>0</td>\n",
              "      <td>0</td>\n",
              "      <td>0</td>\n",
              "      <td>0</td>\n",
              "      <td>0</td>\n",
              "      <td>2017-11-19 07:12:00</td>\n",
              "      <td>7</td>\n",
              "      <td>12</td>\n",
              "      <td>2017</td>\n",
              "      <td>11</td>\n",
              "      <td>19</td>\n",
              "    </tr>\n",
              "    <tr>\n",
              "      <th>2</th>\n",
              "      <td>5710</td>\n",
              "      <td>1</td>\n",
              "      <td>Nairobi</td>\n",
              "      <td>1</td>\n",
              "      <td>49</td>\n",
              "      <td>1</td>\n",
              "      <td>0</td>\n",
              "      <td>0</td>\n",
              "      <td>0</td>\n",
              "      <td>1</td>\n",
              "      <td>0</td>\n",
              "      <td>0</td>\n",
              "      <td>0</td>\n",
              "      <td>0</td>\n",
              "      <td>0</td>\n",
              "      <td>0</td>\n",
              "      <td>0</td>\n",
              "      <td>0</td>\n",
              "      <td>0</td>\n",
              "      <td>0</td>\n",
              "      <td>0</td>\n",
              "      <td>0</td>\n",
              "      <td>2017-11-26 07:05:00</td>\n",
              "      <td>7</td>\n",
              "      <td>5</td>\n",
              "      <td>2017</td>\n",
              "      <td>11</td>\n",
              "      <td>26</td>\n",
              "    </tr>\n",
              "    <tr>\n",
              "      <th>3</th>\n",
              "      <td>5777</td>\n",
              "      <td>1</td>\n",
              "      <td>Nairobi</td>\n",
              "      <td>1</td>\n",
              "      <td>49</td>\n",
              "      <td>5</td>\n",
              "      <td>1</td>\n",
              "      <td>0</td>\n",
              "      <td>0</td>\n",
              "      <td>0</td>\n",
              "      <td>0</td>\n",
              "      <td>0</td>\n",
              "      <td>0</td>\n",
              "      <td>0</td>\n",
              "      <td>0</td>\n",
              "      <td>0</td>\n",
              "      <td>0</td>\n",
              "      <td>0</td>\n",
              "      <td>0</td>\n",
              "      <td>0</td>\n",
              "      <td>0</td>\n",
              "      <td>0</td>\n",
              "      <td>2017-11-27 07:10:00</td>\n",
              "      <td>7</td>\n",
              "      <td>10</td>\n",
              "      <td>2017</td>\n",
              "      <td>11</td>\n",
              "      <td>27</td>\n",
              "    </tr>\n",
              "    <tr>\n",
              "      <th>4</th>\n",
              "      <td>5778</td>\n",
              "      <td>1</td>\n",
              "      <td>Nairobi</td>\n",
              "      <td>1</td>\n",
              "      <td>49</td>\n",
              "      <td>31</td>\n",
              "      <td>0</td>\n",
              "      <td>0</td>\n",
              "      <td>0</td>\n",
              "      <td>0</td>\n",
              "      <td>0</td>\n",
              "      <td>0</td>\n",
              "      <td>0</td>\n",
              "      <td>0</td>\n",
              "      <td>1</td>\n",
              "      <td>0</td>\n",
              "      <td>0</td>\n",
              "      <td>0</td>\n",
              "      <td>0</td>\n",
              "      <td>0</td>\n",
              "      <td>0</td>\n",
              "      <td>0</td>\n",
              "      <td>2017-11-27 07:12:00</td>\n",
              "      <td>7</td>\n",
              "      <td>12</td>\n",
              "      <td>2017</td>\n",
              "      <td>11</td>\n",
              "      <td>27</td>\n",
              "    </tr>\n",
              "  </tbody>\n",
              "</table>\n",
              "</div>"
            ],
            "text/plain": [
              "   ride_id  payment_method travel_to  car_type  ...  minute  year  month  date\n",
              "0     1442               1   Nairobi         1  ...      15  2017     10    17\n",
              "1     5437               1   Nairobi         1  ...      12  2017     11    19\n",
              "2     5710               1   Nairobi         1  ...       5  2017     11    26\n",
              "3     5777               1   Nairobi         1  ...      10  2017     11    27\n",
              "4     5778               1   Nairobi         1  ...      12  2017     11    27\n",
              "\n",
              "[5 rows x 28 columns]"
            ]
          },
          "metadata": {
            "tags": []
          },
          "execution_count": 234
        }
      ]
    },
    {
      "cell_type": "code",
      "metadata": {
        "colab": {
          "base_uri": "https://localhost:8080/"
        },
        "id": "uEHKy2NFSus7",
        "outputId": "aeeb0e50-1291-42b9-f641-c9a514bdd509"
      },
      "source": [
        "df.dtypes"
      ],
      "execution_count": null,
      "outputs": [
        {
          "output_type": "execute_result",
          "data": {
            "text/plain": [
              "ride_id                           int64\n",
              "payment_method                    int64\n",
              "travel_to                        object\n",
              "car_type                          int64\n",
              "max_capacity                      int64\n",
              "seats_occupied                    int64\n",
              "travel_from_Homa Bay              uint8\n",
              "travel_from_Kehancha              uint8\n",
              "travel_from_Kendu Bay             uint8\n",
              "travel_from_Keroka                uint8\n",
              "travel_from_Keumbu                uint8\n",
              "travel_from_Kijauri               uint8\n",
              "travel_from_Kisii                 uint8\n",
              "travel_from_Mbita                 uint8\n",
              "travel_from_Migori                uint8\n",
              "travel_from_Ndhiwa                uint8\n",
              "travel_from_Nyachenge             uint8\n",
              "travel_from_Oyugis                uint8\n",
              "travel_from_Rodi                  uint8\n",
              "travel_from_Rongo                 uint8\n",
              "travel_from_Sirare                uint8\n",
              "travel_from_Sori                  uint8\n",
              "Date_time                datetime64[ns]\n",
              "hour                              int64\n",
              "minute                            int64\n",
              "year                              int64\n",
              "month                             int64\n",
              "date                              int64\n",
              "dtype: object"
            ]
          },
          "metadata": {
            "tags": []
          },
          "execution_count": 235
        }
      ]
    },
    {
      "cell_type": "markdown",
      "metadata": {
        "id": "-7b3lrrjS-tk"
      },
      "source": [
        "The Date_time is in object formate. We have to covert into datetime formate"
      ]
    },
    {
      "cell_type": "markdown",
      "metadata": {
        "id": "p0WJoWt0Tygu"
      },
      "source": [
        "#Finding Correlation"
      ]
    },
    {
      "cell_type": "code",
      "metadata": {
        "id": "Hymu_84gTQDK"
      },
      "source": [
        "correlarion=df.corr()"
      ],
      "execution_count": null,
      "outputs": []
    },
    {
      "cell_type": "code",
      "metadata": {
        "colab": {
          "base_uri": "https://localhost:8080/",
          "height": 721
        },
        "id": "B7GkQxJjT63_",
        "outputId": "8342050c-888b-4e42-cd7a-a1b8b4f4f8b4"
      },
      "source": [
        "plt.figure(figsize=(15,10))\n",
        "sns.heatmap(abs(correlarion),cmap='coolwarm',annot=True)"
      ],
      "execution_count": null,
      "outputs": [
        {
          "output_type": "execute_result",
          "data": {
            "text/plain": [
              "<matplotlib.axes._subplots.AxesSubplot at 0x7fc1562dccd0>"
            ]
          },
          "metadata": {
            "tags": []
          },
          "execution_count": 237
        },
        {
          "output_type": "display_data",
          "data": {
            "image/png": "[encoded data removed]",
            "text/plain": [
              "<Figure size 1080x720 with 2 Axes>"
            ]
          },
          "metadata": {
            "tags": [],
            "needs_background": "light"
          }
        }
      ]
    },
    {
      "cell_type": "markdown",
      "metadata": {
        "id": "EjNOpLtjVjl5"
      },
      "source": [
        "#<b>Models and Algorithms"
      ]
    },
    {
      "cell_type": "code",
      "metadata": {
        "colab": {
          "base_uri": "https://localhost:8080/"
        },
        "id": "saWwmrXnWC-a",
        "outputId": "a4a4952e-d9bc-4d32-a367-4c4be2e8120a"
      },
      "source": [
        "df.columns"
      ],
      "execution_count": null,
      "outputs": [
        {
          "output_type": "execute_result",
          "data": {
            "text/plain": [
              "Index(['ride_id', 'payment_method', 'travel_to', 'car_type', 'max_capacity',\n",
              "       'seats_occupied', 'travel_from_Homa Bay', 'travel_from_Kehancha',\n",
              "       'travel_from_Kendu Bay', 'travel_from_Keroka', 'travel_from_Keumbu',\n",
              "       'travel_from_Kijauri', 'travel_from_Kisii', 'travel_from_Mbita',\n",
              "       'travel_from_Migori', 'travel_from_Ndhiwa', 'travel_from_Nyachenge',\n",
              "       'travel_from_Oyugis', 'travel_from_Rodi', 'travel_from_Rongo',\n",
              "       'travel_from_Sirare', 'travel_from_Sori', 'Date_time', 'hour', 'minute',\n",
              "       'year', 'month', 'date'],\n",
              "      dtype='object')"
            ]
          },
          "metadata": {
            "tags": []
          },
          "execution_count": 238
        }
      ]
    },
    {
      "cell_type": "code",
      "metadata": {
        "id": "_lGlzJutT9eX"
      },
      "source": [
        "independent_variables=df.columns.drop(['ride_id','travel_to','seats_occupied','Date_time'])"
      ],
      "execution_count": null,
      "outputs": []
    },
    {
      "cell_type": "code",
      "metadata": {
        "id": "Dug8JQAsXQgD"
      },
      "source": [
        "dependent_variable='seats_occupied'"
      ],
      "execution_count": null,
      "outputs": []
    },
    {
      "cell_type": "code",
      "metadata": {
        "id": "ibMo5yYpXb2G"
      },
      "source": [
        "Xtrain,Xtest,Ytrain,Ytest=train_test_split(df[independent_variables],df[dependent_variable],random_state=0)"
      ],
      "execution_count": null,
      "outputs": []
    },
    {
      "cell_type": "markdown",
      "metadata": {
        "id": "Juk1tlGUqD77"
      },
      "source": [
        "##Linear Regression"
      ]
    },
    {
      "cell_type": "code",
      "metadata": {
        "colab": {
          "base_uri": "https://localhost:8080/"
        },
        "id": "xMQu8IUaXnE_",
        "outputId": "e564bcc6-d3de-4779-9342-839d4ef7c8a1"
      },
      "source": [
        "lin=LinearRegression()\n",
        "lin.fit(Xtrain,Ytrain)"
      ],
      "execution_count": null,
      "outputs": [
        {
          "output_type": "execute_result",
          "data": {
            "text/plain": [
              "LinearRegression(copy_X=True, fit_intercept=True, n_jobs=None, normalize=False)"
            ]
          },
          "metadata": {
            "tags": []
          },
          "execution_count": 243
        }
      ]
    },
    {
      "cell_type": "code",
      "metadata": {
        "colab": {
          "base_uri": "https://localhost:8080/"
        },
        "id": "VK2IHUvQtt7G",
        "outputId": "b683d6bb-3bde-4cc5-ebed-873b4cc5cc14"
      },
      "source": [
        "lin.coef_"
      ],
      "execution_count": null,
      "outputs": [
        {
          "output_type": "execute_result",
          "data": {
            "text/plain": [
              "array([-5.66153141e-01, -3.88672558e-04, -1.47695572e-02,  7.64015473e+00,\n",
              "        1.54560676e+00, -8.86394946e+00, -7.68742492e+00, -9.64876983e+00,\n",
              "       -8.59910285e+00, -3.58283447e+00,  4.89664742e+00,  8.11035649e+00,\n",
              "       -3.74910058e+00, -7.65614911e+00, -8.88178420e-15, -4.10320749e+00,\n",
              "       -5.35035922e+00,  1.07108017e+01, -1.03234955e+01,  4.87384634e-01,\n",
              "       -2.45803566e-02, -1.32875781e+00, -3.80900446e-02, -3.55236806e-02])"
            ]
          },
          "metadata": {
            "tags": []
          },
          "execution_count": 261
        }
      ]
    },
    {
      "cell_type": "code",
      "metadata": {
        "colab": {
          "base_uri": "https://localhost:8080/"
        },
        "id": "oCJINxzzt0qn",
        "outputId": "d69a18f6-8d5e-4abc-b574-6cd0fe2e5aa7"
      },
      "source": [
        "lin.intercept_"
      ],
      "execution_count": null,
      "outputs": [
        {
          "output_type": "execute_result",
          "data": {
            "text/plain": [
              "2690.1866269286975"
            ]
          },
          "metadata": {
            "tags": []
          },
          "execution_count": 262
        }
      ]
    },
    {
      "cell_type": "code",
      "metadata": {
        "colab": {
          "base_uri": "https://localhost:8080/"
        },
        "id": "LI883t-Oqu0A",
        "outputId": "2ba98442-e173-43c2-a5e9-db050ee51036"
      },
      "source": [
        "print('MSE train : ',mean_squared_error(Ytrain,lin.predict(Xtrain)))\n",
        "print('MSE test : ',mean_squared_error(Ytest,lin.predict(Xtest)))\n",
        "print('RMSE train : ',np.sqrt(mean_squared_error(Ytrain,lin.predict(Xtrain))))\n",
        "print('RMSE test : ',np.sqrt(mean_squared_error(Ytest,lin.predict(Xtest))))\n",
        "print('R2 for train : ',r2_score(Ytrain,lin.predict(Xtrain)))\n",
        "print('R2 for test : ',r2_score(Ytest,lin.predict(Xtest)))\n",
        "print(\"Adjusted R2 for train : \",1-(1-r2_score(Ytrain,lin.predict(Xtrain)))*((Xtrain.shape[0]-1)/(Xtrain.shape[0]-Xtrain.shape[1]-1)))\n",
        "print(\"Adjusted R2 for test : \",1-(1-r2_score(Ytest,lin.predict(Xtest)))*((Xtest.shape[0]-1)/(Xtest.shape[0]-Xtest.shape[1]-1)))"
      ],
      "execution_count": null,
      "outputs": [
        {
          "output_type": "stream",
          "text": [
            "MSE train :  44.77833784888423\n",
            "MSE test :  49.782891611441386\n",
            "RMSE train :  6.691661815190919\n",
            "RMSE test :  7.055699229094263\n",
            "R2 for train :  0.3876131649669401\n",
            "R2 for test :  0.3647006731699052\n",
            "Adjusted R2 for train :  0.3844747314754189\n",
            "Adjusted R2 for test :  0.3548319457628357\n"
          ],
          "name": "stdout"
        }
      ]
    },
    {
      "cell_type": "markdown",
      "metadata": {
        "id": "ESSLdFvW1wQf"
      },
      "source": [
        "Linear Regression giving less R2 and Adj R2 score. It is not a good model for this data"
      ]
    },
    {
      "cell_type": "markdown",
      "metadata": {
        "id": "YBHnpxK3tdA5"
      },
      "source": [
        "##Lasso, Ridge and Elastic Regression"
      ]
    },
    {
      "cell_type": "code",
      "metadata": {
        "id": "rDZMlmg8uHri"
      },
      "source": [
        "from sklearn.linear_model import Lasso\n",
        "from sklearn.linear_model import Ridge\n",
        "from sklearn.linear_model import ElasticNet"
      ],
      "execution_count": null,
      "outputs": []
    },
    {
      "cell_type": "code",
      "metadata": {
        "colab": {
          "base_uri": "https://localhost:8080/"
        },
        "id": "h9iUTGnyrFdM",
        "outputId": "c80f4ede-44d1-4461-fca8-aa9f0ff496bb"
      },
      "source": [
        "#lasso\n",
        "from sklearn.model_selection import GridSearchCV\n",
        "lasso = Lasso()\n",
        "parameters = {'alpha': [1e-15,1e-13,1e-10,1e-8,1e-5,1e-4,1e-3,1e-2,1e-1,1,5,10,20,30,40,45,50,55,60,100,0.0014]}\n",
        "lasso_regressor = GridSearchCV(lasso, parameters, scoring='neg_mean_squared_error', cv=5)\n",
        "lasso_regressor.fit(Xtrain, Ytrain)"
      ],
      "execution_count": null,
      "outputs": [
        {
          "output_type": "stream",
          "text": [
            "/usr/local/lib/python3.7/dist-packages/sklearn/linear_model/_coordinate_descent.py:476: ConvergenceWarning: Objective did not converge. You might want to increase the number of iterations. Duality gap: 50492.8906039573, tolerance: 28.43803844928305\n",
            "  positive)\n",
            "/usr/local/lib/python3.7/dist-packages/sklearn/linear_model/_coordinate_descent.py:476: ConvergenceWarning: Objective did not converge. You might want to increase the number of iterations. Duality gap: 38843.40525088607, tolerance: 27.56325979819434\n",
            "  positive)\n",
            "/usr/local/lib/python3.7/dist-packages/sklearn/linear_model/_coordinate_descent.py:476: ConvergenceWarning: Objective did not converge. You might want to increase the number of iterations. Duality gap: 7750.84408821183, tolerance: 28.042865427509277\n",
            "  positive)\n",
            "/usr/local/lib/python3.7/dist-packages/sklearn/linear_model/_coordinate_descent.py:476: ConvergenceWarning: Objective did not converge. You might want to increase the number of iterations. Duality gap: 31311.312242619264, tolerance: 26.530507034775685\n",
            "  positive)\n",
            "/usr/local/lib/python3.7/dist-packages/sklearn/linear_model/_coordinate_descent.py:476: ConvergenceWarning: Objective did not converge. You might want to increase the number of iterations. Duality gap: 51655.99784838298, tolerance: 27.116300451287483\n",
            "  positive)\n"
          ],
          "name": "stderr"
        },
        {
          "output_type": "execute_result",
          "data": {
            "text/plain": [
              "GridSearchCV(cv=5, error_score=nan,\n",
              "             estimator=Lasso(alpha=1.0, copy_X=True, fit_intercept=True,\n",
              "                             max_iter=1000, normalize=False, positive=False,\n",
              "                             precompute=False, random_state=None,\n",
              "                             selection='cyclic', tol=0.0001, warm_start=False),\n",
              "             iid='deprecated', n_jobs=None,\n",
              "             param_grid={'alpha': [1e-15, 1e-13, 1e-10, 1e-08, 1e-05, 0.0001,\n",
              "                                   0.001, 0.01, 0.1, 1, 5, 10, 20, 30, 40, 45,\n",
              "                                   50, 55, 60, 100, 0.0014]},\n",
              "             pre_dispatch='2*n_jobs', refit=True, return_train_score=False,\n",
              "             scoring='neg_mean_squared_error', verbose=0)"
            ]
          },
          "metadata": {
            "tags": []
          },
          "execution_count": 266
        }
      ]
    },
    {
      "cell_type": "code",
      "metadata": {
        "colab": {
          "base_uri": "https://localhost:8080/"
        },
        "id": "Czhfju_auAjF",
        "outputId": "d0b62a99-f3e6-42c2-9f78-4b074cc8e5f9"
      },
      "source": [
        "print(\"The best fit alpha value is found out to be :\" ,lasso_regressor.best_params_)\n",
        "print(\"\\nUsing \",lasso_regressor.best_params_, \" the negative mean squared error is: \", lasso_regressor.best_score_)"
      ],
      "execution_count": null,
      "outputs": [
        {
          "output_type": "stream",
          "text": [
            "The best fit alpha value is found out to be : {'alpha': 0.0001}\n",
            "\n",
            "Using  {'alpha': 0.0001}  the negative mean squared error is:  -45.27096140479107\n"
          ],
          "name": "stdout"
        }
      ]
    },
    {
      "cell_type": "code",
      "metadata": {
        "colab": {
          "base_uri": "https://localhost:8080/"
        },
        "id": "L0UX0zNOuVaE",
        "outputId": "b827973f-531c-49e9-f047-cbbf5c2e335b"
      },
      "source": [
        "print('MSE train : ',mean_squared_error(Ytrain,lasso_regressor.predict(Xtrain)))\n",
        "print('MSE test : ',mean_squared_error(Ytest,lasso_regressor.predict(Xtest)))\n",
        "print('RMSE train : ',np.sqrt(mean_squared_error(Ytrain,lasso_regressor.predict(Xtrain))))\n",
        "print('RMSE test : ',np.sqrt(mean_squared_error(Ytest,lasso_regressor.predict(Xtest))))\n",
        "print('R2 for train : ',r2_score(Ytrain,lasso_regressor.predict(Xtrain)))\n",
        "print('R2 for test : ',r2_score(Ytest,lasso_regressor.predict(Xtest)))\n",
        "print(\"Adjusted R2 for train : \",1-(1-r2_score(Ytrain,lasso_regressor.predict(Xtrain)))*((Xtrain.shape[0]-1)/(Xtrain.shape[0]-Xtrain.shape[1]-1)))\n",
        "print(\"Adjusted R2 for test : \",1-(1-r2_score(Ytest,lasso_regressor.predict(Xtest)))*((Xtest.shape[0]-1)/(Xtest.shape[0]-Xtest.shape[1]-1)))"
      ],
      "execution_count": null,
      "outputs": [
        {
          "output_type": "stream",
          "text": [
            "MSE train :  44.778410603480495\n",
            "MSE test :  49.77883870026386\n",
            "RMSE train :  6.691667251401589\n",
            "RMSE test :  7.055412014919034\n",
            "R2 for train :  0.3876121699778653\n",
            "R2 for test :  0.3647523939852182\n",
            "Adjusted R2 for train :  0.38447373138710483\n",
            "Adjusted R2 for test :  0.3548844700082895\n"
          ],
          "name": "stdout"
        }
      ]
    },
    {
      "cell_type": "code",
      "metadata": {
        "colab": {
          "base_uri": "https://localhost:8080/"
        },
        "id": "yf8VEJ8Bu-Fi",
        "outputId": "237280fa-0f50-4c7d-ab63-d27b1b64dd8c"
      },
      "source": [
        "#Ridge\n",
        "from sklearn.model_selection import GridSearchCV\n",
        "ridge = Ridge()\n",
        "parameters = {'alpha': [1e-15,1e-13,1e-10,1e-8,1e-5,1e-4,1e-3,1e-2,1e-1,1,5,10,20,30,40,45,50,55,60,100,0.0014]}\n",
        "ridge_regressor = GridSearchCV(ridge, parameters, scoring='neg_mean_squared_error', cv=5)\n",
        "ridge_regressor.fit(Xtrain, Ytrain)"
      ],
      "execution_count": null,
      "outputs": [
        {
          "output_type": "stream",
          "text": [
            "/usr/local/lib/python3.7/dist-packages/sklearn/linear_model/_ridge.py:148: LinAlgWarning: Ill-conditioned matrix (rcond=4.67052e-22): result may not be accurate.\n",
            "  overwrite_a=True).T\n",
            "/usr/local/lib/python3.7/dist-packages/sklearn/linear_model/_ridge.py:148: LinAlgWarning: Ill-conditioned matrix (rcond=4.68466e-22): result may not be accurate.\n",
            "  overwrite_a=True).T\n",
            "/usr/local/lib/python3.7/dist-packages/sklearn/linear_model/_ridge.py:148: LinAlgWarning: Ill-conditioned matrix (rcond=4.66907e-22): result may not be accurate.\n",
            "  overwrite_a=True).T\n",
            "/usr/local/lib/python3.7/dist-packages/sklearn/linear_model/_ridge.py:148: LinAlgWarning: Ill-conditioned matrix (rcond=4.67942e-22): result may not be accurate.\n",
            "  overwrite_a=True).T\n",
            "/usr/local/lib/python3.7/dist-packages/sklearn/linear_model/_ridge.py:148: LinAlgWarning: Ill-conditioned matrix (rcond=4.67052e-20): result may not be accurate.\n",
            "  overwrite_a=True).T\n",
            "/usr/local/lib/python3.7/dist-packages/sklearn/linear_model/_ridge.py:148: LinAlgWarning: Ill-conditioned matrix (rcond=4.68466e-20): result may not be accurate.\n",
            "  overwrite_a=True).T\n",
            "/usr/local/lib/python3.7/dist-packages/sklearn/linear_model/_ridge.py:148: LinAlgWarning: Ill-conditioned matrix (rcond=4.66907e-20): result may not be accurate.\n",
            "  overwrite_a=True).T\n",
            "/usr/local/lib/python3.7/dist-packages/sklearn/linear_model/_ridge.py:148: LinAlgWarning: Ill-conditioned matrix (rcond=4.67942e-20): result may not be accurate.\n",
            "  overwrite_a=True).T\n",
            "/usr/local/lib/python3.7/dist-packages/sklearn/linear_model/_ridge.py:148: LinAlgWarning: Ill-conditioned matrix (rcond=4.46667e-17): result may not be accurate.\n",
            "  overwrite_a=True).T\n",
            "/usr/local/lib/python3.7/dist-packages/sklearn/linear_model/_ridge.py:148: LinAlgWarning: Ill-conditioned matrix (rcond=4.67052e-17): result may not be accurate.\n",
            "  overwrite_a=True).T\n",
            "/usr/local/lib/python3.7/dist-packages/sklearn/linear_model/_ridge.py:148: LinAlgWarning: Ill-conditioned matrix (rcond=4.67352e-17): result may not be accurate.\n",
            "  overwrite_a=True).T\n",
            "/usr/local/lib/python3.7/dist-packages/sklearn/linear_model/_ridge.py:148: LinAlgWarning: Ill-conditioned matrix (rcond=4.66907e-17): result may not be accurate.\n",
            "  overwrite_a=True).T\n",
            "/usr/local/lib/python3.7/dist-packages/sklearn/linear_model/_ridge.py:148: LinAlgWarning: Ill-conditioned matrix (rcond=4.67942e-17): result may not be accurate.\n",
            "  overwrite_a=True).T\n"
          ],
          "name": "stderr"
        },
        {
          "output_type": "execute_result",
          "data": {
            "text/plain": [
              "GridSearchCV(cv=5, error_score=nan,\n",
              "             estimator=Ridge(alpha=1.0, copy_X=True, fit_intercept=True,\n",
              "                             max_iter=None, normalize=False, random_state=None,\n",
              "                             solver='auto', tol=0.001),\n",
              "             iid='deprecated', n_jobs=None,\n",
              "             param_grid={'alpha': [1e-15, 1e-13, 1e-10, 1e-08, 1e-05, 0.0001,\n",
              "                                   0.001, 0.01, 0.1, 1, 5, 10, 20, 30, 40, 45,\n",
              "                                   50, 55, 60, 100, 0.0014]},\n",
              "             pre_dispatch='2*n_jobs', refit=True, return_train_score=False,\n",
              "             scoring='neg_mean_squared_error', verbose=0)"
            ]
          },
          "metadata": {
            "tags": []
          },
          "execution_count": 281
        }
      ]
    },
    {
      "cell_type": "code",
      "metadata": {
        "colab": {
          "base_uri": "https://localhost:8080/"
        },
        "id": "T8CnAk16vjEY",
        "outputId": "1c241ff8-2738-47bf-f6f2-e8d10db8b9f2"
      },
      "source": [
        "print(\"The best fit alpha value is found out to be :\" ,ridge_regressor.best_params_)\n",
        "print(\"\\nUsing \",ridge_regressor.best_params_, \" the negative mean squared error is: \", ridge_regressor.best_score_)"
      ],
      "execution_count": null,
      "outputs": [
        {
          "output_type": "stream",
          "text": [
            "The best fit alpha value is found out to be : {'alpha': 1}\n",
            "\n",
            "Using  {'alpha': 1}  the negative mean squared error is:  -45.26230277195466\n"
          ],
          "name": "stdout"
        }
      ]
    },
    {
      "cell_type": "code",
      "metadata": {
        "colab": {
          "base_uri": "https://localhost:8080/"
        },
        "id": "0nrKSvEFvolN",
        "outputId": "66e32c74-1468-40bf-cb30-72a7b3da8e15"
      },
      "source": [
        "print('MSE train : ',mean_squared_error(Ytrain,ridge_regressor.predict(Xtrain)))\n",
        "print('MSE test : ',mean_squared_error(Ytest,ridge_regressor.predict(Xtest)))\n",
        "print('RMSE train : ',np.sqrt(mean_squared_error(Ytrain,ridge_regressor.predict(Xtrain))))\n",
        "print('RMSE test : ',np.sqrt(mean_squared_error(Ytest,ridge_regressor.predict(Xtest))))\n",
        "print('R2 for train : ',r2_score(Ytrain,ridge_regressor.predict(Xtrain)))\n",
        "print('R2 for test : ',r2_score(Ytest,ridge_regressor.predict(Xtest)))\n",
        "print(\"Adjusted R2 for train : \",1-(1-r2_score(Ytrain,ridge_regressor.predict(Xtrain)))*((Xtrain.shape[0]-1)/(Xtrain.shape[0]-Xtrain.shape[1]-1)))\n",
        "print(\"Adjusted R2 for test : \",1-(1-r2_score(Ytest,ridge_regressor.predict(Xtest)))*((Xtest.shape[0]-1)/(Xtest.shape[0]-Xtest.shape[1]-1)))"
      ],
      "execution_count": null,
      "outputs": [
        {
          "output_type": "stream",
          "text": [
            "MSE train :  44.78695208137154\n",
            "MSE test :  49.749679669193846\n",
            "RMSE train :  6.6923054384398455\n",
            "RMSE test :  7.053345282147602\n",
            "R2 for train :  0.3874953570530566\n",
            "R2 for test :  0.36512450400555185\n",
            "Adjusted R2 for train :  0.3843563198054105\n",
            "Adjusted R2 for test :  0.3552623603784536\n"
          ],
          "name": "stdout"
        }
      ]
    },
    {
      "cell_type": "code",
      "metadata": {
        "colab": {
          "base_uri": "https://localhost:8080/"
        },
        "id": "kEmvPhg6v4fK",
        "outputId": "f5e058ee-b384-4468-f5ed-db206fb22520"
      },
      "source": [
        "#Elastic\n",
        "from sklearn.model_selection import GridSearchCV\n",
        "elastic=ElasticNet()\n",
        "grid = dict()\n",
        "grid['alpha'] = [1e-5, 1e-4, 1e-3, 1e-2, 1e-1, 0.0, 1.0, 10.0, 100.0]\n",
        "grid['l1_ratio'] = [0.001,0.01,1,10,20,50,100,1000]\n",
        "search = GridSearchCV(elastic, grid, scoring='neg_mean_absolute_error', cv=5, n_jobs=-1)\n",
        "# perform the search\n",
        "results = search.fit(Xtrain, Ytrain)"
      ],
      "execution_count": null,
      "outputs": [
        {
          "output_type": "stream",
          "text": [
            "/usr/local/lib/python3.7/dist-packages/sklearn/model_selection/_search.py:788: RuntimeWarning: overflow encountered in square\n",
            "  array_means[:, np.newaxis]) ** 2,\n",
            "/usr/local/lib/python3.7/dist-packages/sklearn/linear_model/_coordinate_descent.py:476: ConvergenceWarning: Objective did not converge. You might want to increase the number of iterations. Duality gap: 99775.523812138, tolerance: 34.42536686491073\n",
            "  positive)\n"
          ],
          "name": "stderr"
        }
      ]
    },
    {
      "cell_type": "code",
      "metadata": {
        "colab": {
          "base_uri": "https://localhost:8080/"
        },
        "id": "MGs0-na2wJ9r",
        "outputId": "7f819f7e-c764-428c-e88a-c82bbf0f3b22"
      },
      "source": [
        "print(\"The best fit alpha value is found out to be :\" ,results.best_params_)\n",
        "print(\"\\nUsing \",results.best_params_, \" the negative mean squared error is: \", results.best_score_)"
      ],
      "execution_count": null,
      "outputs": [
        {
          "output_type": "stream",
          "text": [
            "The best fit alpha value is found out to be : {'alpha': 0.0001, 'l1_ratio': 0.01}\n",
            "\n",
            "Using  {'alpha': 0.0001, 'l1_ratio': 0.01}  the negative mean squared error is:  -4.661185074469172\n"
          ],
          "name": "stdout"
        }
      ]
    },
    {
      "cell_type": "code",
      "metadata": {
        "colab": {
          "base_uri": "https://localhost:8080/"
        },
        "id": "Rps_zgfcxlcU",
        "outputId": "b75e77c5-59e2-4c2f-c3d6-e2ef508b985a"
      },
      "source": [
        "print('MSE train : ',mean_squared_error(Ytrain,results.predict(Xtrain)))\n",
        "print('MSE test : ',mean_squared_error(Ytest,results.predict(Xtest)))\n",
        "print('RMSE train : ',np.sqrt(mean_squared_error(Ytrain,results.predict(Xtrain))))\n",
        "print('RMSE test : ',np.sqrt(mean_squared_error(Ytest,results.predict(Xtest))))\n",
        "print('R2 for train : ',r2_score(Ytrain,results.predict(Xtrain)))\n",
        "print('R2 for test : ',r2_score(Ytest,results.predict(Xtest)))\n",
        "print(\"Adjusted R2 for train : \",1-(1-r2_score(Ytrain,results.predict(Xtrain)))*((Xtrain.shape[0]-1)/(Xtrain.shape[0]-Xtrain.shape[1]-1)))\n",
        "print(\"Adjusted R2 for test : \",1-(1-r2_score(Ytest,results.predict(Xtest)))*((Xtest.shape[0]-1)/(Xtest.shape[0]-Xtest.shape[1]-1)))"
      ],
      "execution_count": null,
      "outputs": [
        {
          "output_type": "stream",
          "text": [
            "MSE train :  44.781122098735885\n",
            "MSE test :  49.76472267683018\n",
            "RMSE train :  6.69186985070211\n",
            "RMSE test :  7.054411575519973\n",
            "R2 for train :  0.3875750876725047\n",
            "R2 for test :  0.36493253418789917\n",
            "Adjusted R2 for train :  0.3844364590378987\n",
            "Adjusted R2 for test :  0.3550674085053811\n"
          ],
          "name": "stdout"
        }
      ]
    },
    {
      "cell_type": "markdown",
      "metadata": {
        "id": "R8h5qsDU4S1b"
      },
      "source": [
        "Lasso, Ridge and Elastic Regression also not improving the model performence"
      ]
    },
    {
      "cell_type": "markdown",
      "metadata": {
        "id": "1COF4VpxyKwv"
      },
      "source": [
        "##Random Forest"
      ]
    },
    {
      "cell_type": "code",
      "metadata": {
        "colab": {
          "base_uri": "https://localhost:8080/"
        },
        "id": "ZaebsuY9x_7c",
        "outputId": "d71852e2-6b41-4150-a5f1-b12fc8db6e1d"
      },
      "source": [
        "from sklearn.ensemble import RandomForestRegressor\n",
        "regressor = RandomForestRegressor(n_estimators = 32, random_state = 0,max_depth=15)\n",
        "grid_values = {'n_estimators':[12,20,30,50, 80,  100, 120], 'max_depth':[5, 10, 15, 20,25,30,35,40]}\n",
        "random_forest = GridSearchCV(regressor, param_grid = grid_values, cv=5)\n",
        "random_forest.fit(Xtrain, Ytrain)"
      ],
      "execution_count": null,
      "outputs": [
        {
          "output_type": "execute_result",
          "data": {
            "text/plain": [
              "GridSearchCV(cv=5, error_score=nan,\n",
              "             estimator=RandomForestRegressor(bootstrap=True, ccp_alpha=0.0,\n",
              "                                             criterion='mse', max_depth=15,\n",
              "                                             max_features='auto',\n",
              "                                             max_leaf_nodes=None,\n",
              "                                             max_samples=None,\n",
              "                                             min_impurity_decrease=0.0,\n",
              "                                             min_impurity_split=None,\n",
              "                                             min_samples_leaf=1,\n",
              "                                             min_samples_split=2,\n",
              "                                             min_weight_fraction_leaf=0.0,\n",
              "                                             n_estimators=32, n_jobs=None,\n",
              "                                             oob_score=False, random_state=0,\n",
              "                                             verbose=0, warm_start=False),\n",
              "             iid='deprecated', n_jobs=None,\n",
              "             param_grid={'max_depth': [5, 10, 15, 20, 25, 30, 35, 40],\n",
              "                         'n_estimators': [12, 20, 30, 50, 80, 100, 120]},\n",
              "             pre_dispatch='2*n_jobs', refit=True, return_train_score=False,\n",
              "             scoring=None, verbose=0)"
            ]
          },
          "metadata": {
            "tags": []
          },
          "execution_count": 293
        }
      ]
    },
    {
      "cell_type": "code",
      "metadata": {
        "colab": {
          "base_uri": "https://localhost:8080/"
        },
        "id": "n397srClx0Ak",
        "outputId": "4082a0a0-cf26-4cc4-d2ed-9ca225dc30bd"
      },
      "source": [
        "print('MSE train : ',mean_squared_error(Ytrain,random_forest.predict(Xtrain)))\n",
        "print('MSE test : ',mean_squared_error(Ytest,random_forest.predict(Xtest)))\n",
        "print('RMSE train : ',np.sqrt(mean_squared_error(Ytrain,random_forest.predict(Xtrain))))\n",
        "print('RMSE test : ',np.sqrt(mean_squared_error(Ytest,random_forest.predict(Xtest))))\n",
        "print('R2 for train : ',r2_score(Ytrain,random_forest.predict(Xtrain)))\n",
        "print('R2 for test : ',r2_score(Ytest,random_forest.predict(Xtest)))\n",
        "print(\"Adjusted R2 for train : \",1-(1-r2_score(Ytrain,random_forest.predict(Xtrain)))*((Xtrain.shape[0]-1)/(Xtrain.shape[0]-Xtrain.shape[1]-1)))\n",
        "print(\"Adjusted R2 for test : \",1-(1-r2_score(Ytest,random_forest.predict(Xtest)))*((Xtest.shape[0]-1)/(Xtest.shape[0]-Xtest.shape[1]-1)))"
      ],
      "execution_count": null,
      "outputs": [
        {
          "output_type": "stream",
          "text": [
            "MSE train :  12.02797059939884\n",
            "MSE test :  29.529190907274494\n",
            "RMSE train :  3.4681364735833045\n",
            "RMSE test :  5.434076821988671\n",
            "R2 for train :  0.835505934318192\n",
            "R2 for test :  0.6231662224112884\n",
            "Adjusted R2 for train :  0.8346629154037433\n",
            "Adjusted R2 for test :  0.6173124938273861\n"
          ],
          "name": "stdout"
        }
      ]
    },
    {
      "cell_type": "markdown",
      "metadata": {
        "id": "yWxB5eCv46Y0"
      },
      "source": [
        "By using Random Forest we are getting moderate test score"
      ]
    },
    {
      "cell_type": "markdown",
      "metadata": {
        "id": "GvpFKGpRzBqX"
      },
      "source": [
        "#Decision Tree"
      ]
    },
    {
      "cell_type": "code",
      "metadata": {
        "colab": {
          "base_uri": "https://localhost:8080/"
        },
        "id": "Y85GHlXdyoiW",
        "outputId": "c0b70375-1230-4515-9bdb-5212ab591fa5"
      },
      "source": [
        "from sklearn.tree import DecisionTreeRegressor \n",
        "tree = DecisionTreeRegressor(random_state = 0,max_depth=70,max_leaf_nodes=55) \n",
        "tree.fit(Xtrain, Ytrain)"
      ],
      "execution_count": null,
      "outputs": [
        {
          "output_type": "execute_result",
          "data": {
            "text/plain": [
              "DecisionTreeRegressor(ccp_alpha=0.0, criterion='mse', max_depth=70,\n",
              "                      max_features=None, max_leaf_nodes=55,\n",
              "                      min_impurity_decrease=0.0, min_impurity_split=None,\n",
              "                      min_samples_leaf=1, min_samples_split=2,\n",
              "                      min_weight_fraction_leaf=0.0, presort='deprecated',\n",
              "                      random_state=0, splitter='best')"
            ]
          },
          "metadata": {
            "tags": []
          },
          "execution_count": 295
        }
      ]
    },
    {
      "cell_type": "code",
      "metadata": {
        "colab": {
          "base_uri": "https://localhost:8080/"
        },
        "id": "rSO5BP32zRVN",
        "outputId": "1c5f692b-a3c6-4b06-890f-971c5085071d"
      },
      "source": [
        "print('MSE train : ',mean_squared_error(Ytrain,tree.predict(Xtrain)))\n",
        "print('MSE test : ',mean_squared_error(Ytest,tree.predict(Xtest)))\n",
        "print('RMSE train : ',np.sqrt(mean_squared_error(Ytrain,tree.predict(Xtrain))))\n",
        "print('RMSE test : ',np.sqrt(mean_squared_error(Ytest,tree.predict(Xtest))))\n",
        "print('R2 for train : ',r2_score(Ytrain,tree.predict(Xtrain)))\n",
        "print('R2 for test : ',r2_score(Ytest,tree.predict(Xtest)))\n",
        "print(\"Adjusted R2 for train : \",1-(1-r2_score(Ytrain,tree.predict(Xtrain)))*((Xtrain.shape[0]-1)/(Xtrain.shape[0]-Xtrain.shape[1]-1)))\n",
        "print(\"Adjusted R2 for test : \",1-(1-r2_score(Ytest,tree.predict(Xtest)))*((Xtest.shape[0]-1)/(Xtest.shape[0]-Xtest.shape[1]-1)))"
      ],
      "execution_count": null,
      "outputs": [
        {
          "output_type": "stream",
          "text": [
            "MSE train :  25.850339086112328\n",
            "MSE test :  34.9831170923801\n",
            "RMSE train :  5.084322873904875\n",
            "RMSE test :  5.914652744868468\n",
            "R2 for train :  0.6464717517899072\n",
            "R2 for test :  0.5535664960429971\n",
            "Adjusted R2 for train :  0.6446599478272674\n",
            "Adjusted R2 for test :  0.5466316066611407\n"
          ],
          "name": "stdout"
        }
      ]
    },
    {
      "cell_type": "markdown",
      "metadata": {
        "id": "YObDIAT3zuLp"
      },
      "source": [
        "##XGBOOST"
      ]
    },
    {
      "cell_type": "code",
      "metadata": {
        "colab": {
          "base_uri": "https://localhost:8080/"
        },
        "id": "iflSQvaUziHD",
        "outputId": "23b0b530-765e-4225-c054-b4144923d012"
      },
      "source": [
        "import xgboost as xgb\n",
        "reg= xgb.XGBRegressor(\n",
        "                        booster= 'gbtree',\n",
        "                        colsample_bylevel= 1,\n",
        "                        colsample_bynode= 1,\n",
        "                        colsample_bytree= 0.7,\n",
        "                        eta= 0.004,\n",
        "                        gamma= 0,\n",
        "                        importance_type= 'gain',\n",
        "                        learning_rate= 0.1,\n",
        "                        max_delta_step= 0,\n",
        "                        max_depth= 9,\n",
        "                        min_child_weight= 10,\n",
        "                        n_estimators= 100,\n",
        "                        n_jobs= 1,\n",
        "                        objective= 'reg:linear',\n",
        "                        random_state= 0,\n",
        "                        reg_alpha= 0,\n",
        "                        reg_lambda= 1,\n",
        "                        scale_pos_weight= 1,\n",
        "                        subsample= 1,\n",
        "                        verbosity= 1)\n",
        "reg.fit(Xtrain, Ytrain)"
      ],
      "execution_count": null,
      "outputs": [
        {
          "output_type": "stream",
          "text": [
            "[16:48:08] WARNING: /workspace/src/objective/regression_obj.cu:152: reg:linear is now deprecated in favor of reg:squarederror.\n"
          ],
          "name": "stdout"
        },
        {
          "output_type": "execute_result",
          "data": {
            "text/plain": [
              "XGBRegressor(base_score=0.5, booster='gbtree', colsample_bylevel=1,\n",
              "             colsample_bynode=1, colsample_bytree=0.7, eta=0.004, gamma=0,\n",
              "             importance_type='gain', learning_rate=0.1, max_delta_step=0,\n",
              "             max_depth=9, min_child_weight=10, missing=None, n_estimators=100,\n",
              "             n_jobs=1, nthread=None, objective='reg:linear', random_state=0,\n",
              "             reg_alpha=0, reg_lambda=1, scale_pos_weight=1, seed=None,\n",
              "             silent=None, subsample=1, verbosity=1)"
            ]
          },
          "metadata": {
            "tags": []
          },
          "execution_count": 299
        }
      ]
    },
    {
      "cell_type": "code",
      "metadata": {
        "colab": {
          "base_uri": "https://localhost:8080/"
        },
        "id": "iKnVaEqAzzzn",
        "outputId": "ec6e642a-85fa-404e-9992-21254c95d1fb"
      },
      "source": [
        "print('MSE train : ',mean_squared_error(Ytrain,tree.predict(Xtrain)))\n",
        "print('MSE test : ',mean_squared_error(Ytest,tree.predict(Xtest)))\n",
        "print('RMSE train : ',np.sqrt(mean_squared_error(Ytrain,tree.predict(Xtrain))))\n",
        "print('RMSE test : ',np.sqrt(mean_squared_error(Ytest,tree.predict(Xtest))))\n",
        "print('R2 for train : ',r2_score(Ytrain,tree.predict(Xtrain)))\n",
        "print('R2 for test : ',r2_score(Ytest,tree.predict(Xtest)))\n",
        "print(\"Adjusted R2 for train : \",1-(1-r2_score(Ytrain,tree.predict(Xtrain)))*((Xtrain.shape[0]-1)/(Xtrain.shape[0]-Xtrain.shape[1]-1)))\n",
        "print(\"Adjusted R2 for test : \",1-(1-r2_score(Ytest,tree.predict(Xtest)))*((Xtest.shape[0]-1)/(Xtest.shape[0]-Xtest.shape[1]-1)))"
      ],
      "execution_count": null,
      "outputs": [
        {
          "output_type": "stream",
          "text": [
            "MSE train :  25.850339086112328\n",
            "MSE test :  34.9831170923801\n",
            "RMSE train :  5.084322873904875\n",
            "RMSE test :  5.914652744868468\n",
            "R2 for train :  0.6464717517899072\n",
            "R2 for test :  0.5535664960429971\n",
            "Adjusted R2 for train :  0.6446599478272674\n",
            "Adjusted R2 for test :  0.5466316066611407\n"
          ],
          "name": "stdout"
        }
      ]
    },
    {
      "cell_type": "code",
      "metadata": {
        "id": "k4PXdvdd0UHH"
      },
      "source": [
        "params = {\"min_child_weight\":[10,20], \n",
        "            'eta': [0.004,0.04,4,40], \n",
        "            'colsample_bytree':[0.7], \n",
        "            'max_depth': [7,9,11],\n",
        "          \n",
        "          }"
      ],
      "execution_count": null,
      "outputs": []
    },
    {
      "cell_type": "code",
      "metadata": {
        "id": "ZY7_SVAT0aWZ"
      },
      "source": [
        "import xgboost as xgb\n",
        "\n",
        "xgb = xgb.XGBRegressor(random_state=0)"
      ],
      "execution_count": null,
      "outputs": []
    },
    {
      "cell_type": "code",
      "metadata": {
        "colab": {
          "base_uri": "https://localhost:8080/"
        },
        "id": "qubFYKkD0e0b",
        "outputId": "14203737-b8be-41e6-d28b-c3093fb9b523"
      },
      "source": [
        "reg_gs = GridSearchCV(xgb,param_grid=params, verbose=1,cv=3)\n",
        "reg_gs.fit(Xtrain, Ytrain)"
      ],
      "execution_count": null,
      "outputs": [
        {
          "output_type": "stream",
          "text": [
            "Fitting 3 folds for each of 24 candidates, totalling 72 fits\n",
            "[16:49:53] WARNING: /workspace/src/objective/regression_obj.cu:152: reg:linear is now deprecated in favor of reg:squarederror.\n"
          ],
          "name": "stdout"
        },
        {
          "output_type": "stream",
          "text": [
            "[Parallel(n_jobs=1)]: Using backend SequentialBackend with 1 concurrent workers.\n"
          ],
          "name": "stderr"
        },
        {
          "output_type": "stream",
          "text": [
            "[16:49:54] WARNING: /workspace/src/objective/regression_obj.cu:152: reg:linear is now deprecated in favor of reg:squarederror.\n",
            "[16:49:54] WARNING: /workspace/src/objective/regression_obj.cu:152: reg:linear is now deprecated in favor of reg:squarederror.\n",
            "[16:49:54] WARNING: /workspace/src/objective/regression_obj.cu:152: reg:linear is now deprecated in favor of reg:squarederror.\n",
            "[16:49:55] WARNING: /workspace/src/objective/regression_obj.cu:152: reg:linear is now deprecated in favor of reg:squarederror.\n",
            "[16:49:55] WARNING: /workspace/src/objective/regression_obj.cu:152: reg:linear is now deprecated in favor of reg:squarederror.\n",
            "[16:49:56] WARNING: /workspace/src/objective/regression_obj.cu:152: reg:linear is now deprecated in favor of reg:squarederror.\n",
            "[16:49:56] WARNING: /workspace/src/objective/regression_obj.cu:152: reg:linear is now deprecated in favor of reg:squarederror.\n",
            "[16:49:57] WARNING: /workspace/src/objective/regression_obj.cu:152: reg:linear is now deprecated in favor of reg:squarederror.\n",
            "[16:49:57] WARNING: /workspace/src/objective/regression_obj.cu:152: reg:linear is now deprecated in favor of reg:squarederror.\n",
            "[16:49:58] WARNING: /workspace/src/objective/regression_obj.cu:152: reg:linear is now deprecated in favor of reg:squarederror.\n",
            "[16:49:58] WARNING: /workspace/src/objective/regression_obj.cu:152: reg:linear is now deprecated in favor of reg:squarederror.\n",
            "[16:49:59] WARNING: /workspace/src/objective/regression_obj.cu:152: reg:linear is now deprecated in favor of reg:squarederror.\n",
            "[16:49:59] WARNING: /workspace/src/objective/regression_obj.cu:152: reg:linear is now deprecated in favor of reg:squarederror.\n",
            "[16:50:00] WARNING: /workspace/src/objective/regression_obj.cu:152: reg:linear is now deprecated in favor of reg:squarederror.\n",
            "[16:50:00] WARNING: /workspace/src/objective/regression_obj.cu:152: reg:linear is now deprecated in favor of reg:squarederror.\n",
            "[16:50:01] WARNING: /workspace/src/objective/regression_obj.cu:152: reg:linear is now deprecated in favor of reg:squarederror.\n",
            "[16:50:02] WARNING: /workspace/src/objective/regression_obj.cu:152: reg:linear is now deprecated in favor of reg:squarederror.\n",
            "[16:50:02] WARNING: /workspace/src/objective/regression_obj.cu:152: reg:linear is now deprecated in favor of reg:squarederror.\n",
            "[16:50:03] WARNING: /workspace/src/objective/regression_obj.cu:152: reg:linear is now deprecated in favor of reg:squarederror.\n",
            "[16:50:03] WARNING: /workspace/src/objective/regression_obj.cu:152: reg:linear is now deprecated in favor of reg:squarederror.\n",
            "[16:50:04] WARNING: /workspace/src/objective/regression_obj.cu:152: reg:linear is now deprecated in favor of reg:squarederror.\n",
            "[16:50:04] WARNING: /workspace/src/objective/regression_obj.cu:152: reg:linear is now deprecated in favor of reg:squarederror.\n",
            "[16:50:04] WARNING: /workspace/src/objective/regression_obj.cu:152: reg:linear is now deprecated in favor of reg:squarederror.\n",
            "[16:50:05] WARNING: /workspace/src/objective/regression_obj.cu:152: reg:linear is now deprecated in favor of reg:squarederror.\n",
            "[16:50:05] WARNING: /workspace/src/objective/regression_obj.cu:152: reg:linear is now deprecated in favor of reg:squarederror.\n",
            "[16:50:06] WARNING: /workspace/src/objective/regression_obj.cu:152: reg:linear is now deprecated in favor of reg:squarederror.\n",
            "[16:50:06] WARNING: /workspace/src/objective/regression_obj.cu:152: reg:linear is now deprecated in favor of reg:squarederror.\n",
            "[16:50:07] WARNING: /workspace/src/objective/regression_obj.cu:152: reg:linear is now deprecated in favor of reg:squarederror.\n",
            "[16:50:07] WARNING: /workspace/src/objective/regression_obj.cu:152: reg:linear is now deprecated in favor of reg:squarederror.\n",
            "[16:50:08] WARNING: /workspace/src/objective/regression_obj.cu:152: reg:linear is now deprecated in favor of reg:squarederror.\n",
            "[16:50:08] WARNING: /workspace/src/objective/regression_obj.cu:152: reg:linear is now deprecated in favor of reg:squarederror.\n",
            "[16:50:09] WARNING: /workspace/src/objective/regression_obj.cu:152: reg:linear is now deprecated in favor of reg:squarederror.\n",
            "[16:50:10] WARNING: /workspace/src/objective/regression_obj.cu:152: reg:linear is now deprecated in favor of reg:squarederror.\n",
            "[16:50:10] WARNING: /workspace/src/objective/regression_obj.cu:152: reg:linear is now deprecated in favor of reg:squarederror.\n",
            "[16:50:11] WARNING: /workspace/src/objective/regression_obj.cu:152: reg:linear is now deprecated in favor of reg:squarederror.\n",
            "[16:50:11] WARNING: /workspace/src/objective/regression_obj.cu:152: reg:linear is now deprecated in favor of reg:squarederror.\n",
            "[16:50:12] WARNING: /workspace/src/objective/regression_obj.cu:152: reg:linear is now deprecated in favor of reg:squarederror.\n",
            "[16:50:12] WARNING: /workspace/src/objective/regression_obj.cu:152: reg:linear is now deprecated in favor of reg:squarederror.\n",
            "[16:50:13] WARNING: /workspace/src/objective/regression_obj.cu:152: reg:linear is now deprecated in favor of reg:squarederror.\n",
            "[16:50:13] WARNING: /workspace/src/objective/regression_obj.cu:152: reg:linear is now deprecated in favor of reg:squarederror.\n",
            "[16:50:13] WARNING: /workspace/src/objective/regression_obj.cu:152: reg:linear is now deprecated in favor of reg:squarederror.\n",
            "[16:50:14] WARNING: /workspace/src/objective/regression_obj.cu:152: reg:linear is now deprecated in favor of reg:squarederror.\n",
            "[16:50:14] WARNING: /workspace/src/objective/regression_obj.cu:152: reg:linear is now deprecated in favor of reg:squarederror.\n",
            "[16:50:15] WARNING: /workspace/src/objective/regression_obj.cu:152: reg:linear is now deprecated in favor of reg:squarederror.\n",
            "[16:50:15] WARNING: /workspace/src/objective/regression_obj.cu:152: reg:linear is now deprecated in favor of reg:squarederror.\n",
            "[16:50:16] WARNING: /workspace/src/objective/regression_obj.cu:152: reg:linear is now deprecated in favor of reg:squarederror.\n",
            "[16:50:16] WARNING: /workspace/src/objective/regression_obj.cu:152: reg:linear is now deprecated in favor of reg:squarederror.\n",
            "[16:50:17] WARNING: /workspace/src/objective/regression_obj.cu:152: reg:linear is now deprecated in favor of reg:squarederror.\n",
            "[16:50:17] WARNING: /workspace/src/objective/regression_obj.cu:152: reg:linear is now deprecated in favor of reg:squarederror.\n",
            "[16:50:18] WARNING: /workspace/src/objective/regression_obj.cu:152: reg:linear is now deprecated in favor of reg:squarederror.\n",
            "[16:50:19] WARNING: /workspace/src/objective/regression_obj.cu:152: reg:linear is now deprecated in favor of reg:squarederror.\n",
            "[16:50:19] WARNING: /workspace/src/objective/regression_obj.cu:152: reg:linear is now deprecated in favor of reg:squarederror.\n",
            "[16:50:20] WARNING: /workspace/src/objective/regression_obj.cu:152: reg:linear is now deprecated in favor of reg:squarederror.\n",
            "[16:50:20] WARNING: /workspace/src/objective/regression_obj.cu:152: reg:linear is now deprecated in favor of reg:squarederror.\n",
            "[16:50:21] WARNING: /workspace/src/objective/regression_obj.cu:152: reg:linear is now deprecated in favor of reg:squarederror.\n",
            "[16:50:21] WARNING: /workspace/src/objective/regression_obj.cu:152: reg:linear is now deprecated in favor of reg:squarederror.\n",
            "[16:50:22] WARNING: /workspace/src/objective/regression_obj.cu:152: reg:linear is now deprecated in favor of reg:squarederror.\n",
            "[16:50:22] WARNING: /workspace/src/objective/regression_obj.cu:152: reg:linear is now deprecated in favor of reg:squarederror.\n",
            "[16:50:22] WARNING: /workspace/src/objective/regression_obj.cu:152: reg:linear is now deprecated in favor of reg:squarederror.\n",
            "[16:50:23] WARNING: /workspace/src/objective/regression_obj.cu:152: reg:linear is now deprecated in favor of reg:squarederror.\n",
            "[16:50:23] WARNING: /workspace/src/objective/regression_obj.cu:152: reg:linear is now deprecated in favor of reg:squarederror.\n",
            "[16:50:24] WARNING: /workspace/src/objective/regression_obj.cu:152: reg:linear is now deprecated in favor of reg:squarederror.\n",
            "[16:50:24] WARNING: /workspace/src/objective/regression_obj.cu:152: reg:linear is now deprecated in favor of reg:squarederror.\n",
            "[16:50:25] WARNING: /workspace/src/objective/regression_obj.cu:152: reg:linear is now deprecated in favor of reg:squarederror.\n",
            "[16:50:25] WARNING: /workspace/src/objective/regression_obj.cu:152: reg:linear is now deprecated in favor of reg:squarederror.\n",
            "[16:50:26] WARNING: /workspace/src/objective/regression_obj.cu:152: reg:linear is now deprecated in favor of reg:squarederror.\n",
            "[16:50:26] WARNING: /workspace/src/objective/regression_obj.cu:152: reg:linear is now deprecated in favor of reg:squarederror.\n",
            "[16:50:27] WARNING: /workspace/src/objective/regression_obj.cu:152: reg:linear is now deprecated in favor of reg:squarederror.\n",
            "[16:50:28] WARNING: /workspace/src/objective/regression_obj.cu:152: reg:linear is now deprecated in favor of reg:squarederror.\n",
            "[16:50:28] WARNING: /workspace/src/objective/regression_obj.cu:152: reg:linear is now deprecated in favor of reg:squarederror.\n",
            "[16:50:29] WARNING: /workspace/src/objective/regression_obj.cu:152: reg:linear is now deprecated in favor of reg:squarederror.\n"
          ],
          "name": "stdout"
        },
        {
          "output_type": "stream",
          "text": [
            "[Parallel(n_jobs=1)]: Done  72 out of  72 | elapsed:   36.2s finished\n"
          ],
          "name": "stderr"
        },
        {
          "output_type": "stream",
          "text": [
            "[16:50:29] WARNING: /workspace/src/objective/regression_obj.cu:152: reg:linear is now deprecated in favor of reg:squarederror.\n"
          ],
          "name": "stdout"
        },
        {
          "output_type": "execute_result",
          "data": {
            "text/plain": [
              "GridSearchCV(cv=3, error_score=nan,\n",
              "             estimator=XGBRegressor(base_score=0.5, booster='gbtree',\n",
              "                                    colsample_bylevel=1, colsample_bynode=1,\n",
              "                                    colsample_bytree=1, gamma=0,\n",
              "                                    importance_type='gain', learning_rate=0.1,\n",
              "                                    max_delta_step=0, max_depth=3,\n",
              "                                    min_child_weight=1, missing=None,\n",
              "                                    n_estimators=100, n_jobs=1, nthread=None,\n",
              "                                    objective='reg:linear', random_state=0,\n",
              "                                    reg_alpha=0, reg_lambda=1,\n",
              "                                    scale_pos_weight=1, seed=None, silent=None,\n",
              "                                    subsample=1, verbosity=1),\n",
              "             iid='deprecated', n_jobs=None,\n",
              "             param_grid={'colsample_bytree': [0.7], 'eta': [0.004, 0.04, 4, 40],\n",
              "                         'max_depth': [7, 9, 11],\n",
              "                         'min_child_weight': [10, 20]},\n",
              "             pre_dispatch='2*n_jobs', refit=True, return_train_score=False,\n",
              "             scoring=None, verbose=1)"
            ]
          },
          "metadata": {
            "tags": []
          },
          "execution_count": 303
        }
      ]
    },
    {
      "cell_type": "code",
      "metadata": {
        "colab": {
          "base_uri": "https://localhost:8080/"
        },
        "id": "wlW9PB6X0hbi",
        "outputId": "1b5a5944-065b-498c-d05f-e3fa0d4cd0ca"
      },
      "source": [
        "reg_gs.best_estimator_.get_params()"
      ],
      "execution_count": null,
      "outputs": [
        {
          "output_type": "execute_result",
          "data": {
            "text/plain": [
              "{'base_score': 0.5,\n",
              " 'booster': 'gbtree',\n",
              " 'colsample_bylevel': 1,\n",
              " 'colsample_bynode': 1,\n",
              " 'colsample_bytree': 0.7,\n",
              " 'eta': 0.004,\n",
              " 'gamma': 0,\n",
              " 'importance_type': 'gain',\n",
              " 'learning_rate': 0.1,\n",
              " 'max_delta_step': 0,\n",
              " 'max_depth': 11,\n",
              " 'min_child_weight': 10,\n",
              " 'missing': None,\n",
              " 'n_estimators': 100,\n",
              " 'n_jobs': 1,\n",
              " 'nthread': None,\n",
              " 'objective': 'reg:linear',\n",
              " 'random_state': 0,\n",
              " 'reg_alpha': 0,\n",
              " 'reg_lambda': 1,\n",
              " 'scale_pos_weight': 1,\n",
              " 'seed': None,\n",
              " 'silent': None,\n",
              " 'subsample': 1,\n",
              " 'verbosity': 1}"
            ]
          },
          "metadata": {
            "tags": []
          },
          "execution_count": 304
        }
      ]
    },
    {
      "cell_type": "code",
      "metadata": {
        "id": "6Cm-luEN0rbU"
      },
      "source": [
        "reg_optimal_model =reg_gs.best_estimator_"
      ],
      "execution_count": null,
      "outputs": []
    },
    {
      "cell_type": "code",
      "metadata": {
        "colab": {
          "base_uri": "https://localhost:8080/"
        },
        "id": "EFwf3cEk05_d",
        "outputId": "13736d1f-4882-42c9-b31c-d41b88df76bb"
      },
      "source": [
        "print('MSE train : ',mean_squared_error(Ytrain,reg_gs.predict(Xtrain)))\n",
        "print('MSE test : ',mean_squared_error(Ytest,reg_gs.predict(Xtest)))\n",
        "print('RMSE train : ',np.sqrt(mean_squared_error(Ytrain,reg_gs.predict(Xtrain))))\n",
        "print('RMSE test : ',np.sqrt(mean_squared_error(Ytest,reg_gs.predict(Xtest))))\n",
        "print('R2 for train : ',r2_score(Ytrain,reg_gs.predict(Xtrain)))\n",
        "print('R2 for test : ',r2_score(Ytest,reg_gs.predict(Xtest)))\n",
        "print(\"Adjusted R2 for train : \",1-(1-r2_score(Ytrain,reg_gs.predict(Xtrain)))*((Xtrain.shape[0]-1)/(Xtrain.shape[0]-Xtrain.shape[1]-1)))\n",
        "print(\"Adjusted R2 for test : \",1-(1-r2_score(Ytest,reg_gs.predict(Xtest)))*((Xtest.shape[0]-1)/(Xtest.shape[0]-Xtest.shape[1]-1)))"
      ],
      "execution_count": null,
      "outputs": [
        {
          "output_type": "stream",
          "text": [
            "MSE train :  15.582775811578122\n",
            "MSE test :  28.12748676857302\n",
            "RMSE train :  3.9475024777165273\n",
            "RMSE test :  5.303535308506301\n",
            "R2 for train :  0.7868905542566977\n",
            "R2 for test :  0.6410539277435223\n",
            "Adjusted R2 for train :  0.7857983854124015\n",
            "Adjusted R2 for test :  0.6354780664269168\n"
          ],
          "name": "stdout"
        }
      ]
    },
    {
      "cell_type": "code",
      "metadata": {
        "id": "nNi5wOZL1KCd"
      },
      "source": [
        ""
      ],
      "execution_count": null,
      "outputs": []
    }
  ]
}